{
  "nbformat": 4,
  "nbformat_minor": 0,
  "metadata": {
    "colab": {
      "name": "GrabFeaturesDefaultFormat.ipynb",
      "provenance": []
    },
    "kernelspec": {
      "name": "python3",
      "display_name": "Python 3"
    },
    "language_info": {
      "name": "python"
    }
  },
  "cells": [
    {
      "cell_type": "markdown",
      "source": [
        "* First, read data in default format using MIDO (more info on \"MessinWithMIDO\")\n",
        "\n",
        "* This program pulls feature information from the default data format"
      ],
      "metadata": {
        "id": "NDPg4irJhCoC"
      }
    },
    {
      "cell_type": "code",
      "execution_count": null,
      "metadata": {
        "id": "RJDVRLXi84bQ",
        "colab": {
          "base_uri": "https://localhost:8080/"
        },
        "outputId": "c01bb296-180e-4c2d-960d-a521e5f9ac28"
      },
      "outputs": [
        {
          "output_type": "stream",
          "name": "stdout",
          "text": [
            "Drive already mounted at /content/drive; to attempt to forcibly remount, call drive.mount(\"/content/drive\", force_remount=True).\n"
          ]
        }
      ],
      "source": [
        "from google.colab import drive\n",
        "drive.mount('/content/drive')"
      ]
    },
    {
      "cell_type": "code",
      "source": [
        "pip install mido"
      ],
      "metadata": {
        "colab": {
          "base_uri": "https://localhost:8080/"
        },
        "id": "XarSUiakQsQm",
        "outputId": "ea9bc264-4a51-44c5-eeb0-2395be24981a"
      },
      "execution_count": null,
      "outputs": [
        {
          "output_type": "stream",
          "name": "stdout",
          "text": [
            "Requirement already satisfied: mido in /usr/local/lib/python3.7/dist-packages (1.2.10)\n"
          ]
        }
      ]
    },
    {
      "cell_type": "code",
      "source": [
        "import mido\n",
        "from mido import MidiFile"
      ],
      "metadata": {
        "id": "OJLBrWjMQzSc"
      },
      "execution_count": null,
      "outputs": []
    },
    {
      "cell_type": "code",
      "source": [
        "# This example grabs a single midi file (song)\n",
        "# Change file path to grab more files\n",
        "\n",
        "path = '/content/drive/MyDrive/Colab Notebooks/Pattern rec/Music project/maestro-v3.0.0/2004/MIDI-Unprocessed_SMF_02_R1_2004_01-05_ORIG_MID--AUDIO_02_R1_2004_05_Track05_wav.midi'\n",
        "mid = mido.MidiFile(path)\n",
        "mididict = []\n",
        "output = []\n",
        "\n",
        "# Put all note on/off in midinote as dictionary.\n",
        "for i in mid:\n",
        "    if i.type == 'note_on' or i.type == 'note_off' or i.type == 'time_signature':\n",
        "        mididict.append(i.dict())\n",
        "\n",
        "# change time values from delta to relative time.\n",
        "mem1=0\n",
        "for i in mididict:\n",
        "    time = i['time'] + mem1\n",
        "    i['time'] = time\n",
        "    mem1 = i['time']\n",
        "\n",
        "# May remove this section -- does it lose information about rests?\n",
        "# make every note_on with 0 velocity note_off\n",
        "    if i['type'] == 'note_on' and i['velocity'] == 0:\n",
        "        i['type'] = 'note_off'\n",
        "\n",
        "# put note, starttime, stoptime, as nested list in a list. # format is [type, note, time, velocity]\n",
        "    mem2=[]\n",
        "    if i['type'] == 'note_on' or i['type'] == 'note_off':\n",
        "        mem2.append(i['type'])\n",
        "        mem2.append(i['note'])\n",
        "        mem2.append(i['time'])\n",
        "        mem2.append(i['velocity'])\n",
        "        output.append(mem2)\n"
      ],
      "metadata": {
        "id": "nVr-j37shmF4"
      },
      "execution_count": null,
      "outputs": []
    },
    {
      "cell_type": "code",
      "source": [
        "# Viewing the midimessages (a slice 0 to 10)\n",
        "for i in output[:10]:\n",
        "    print(i)"
      ],
      "metadata": {
        "colab": {
          "base_uri": "https://localhost:8080/"
        },
        "id": "T6lLmDX9iToG",
        "outputId": "3b923630-a81d-43b9-82b8-8c730f172bae"
      },
      "execution_count": null,
      "outputs": [
        {
          "output_type": "stream",
          "name": "stdout",
          "text": [
            "['note_on', 71, 0.13333333333333333, 60]\n",
            "['note_off', 71, 0.134375, 0]\n",
            "['note_on', 55, 0.14375, 44]\n",
            "['note_on', 71, 0.15312499999999998, 54]\n",
            "['note_on', 59, 0.16874999999999998, 55]\n",
            "['note_off', 55, 0.1958333333333333, 0]\n",
            "['note_off', 59, 0.28125, 0]\n",
            "['note_on', 62, 0.2833333333333333, 52]\n",
            "['note_off', 62, 0.3520833333333333, 0]\n",
            "['note_on', 72, 0.38541666666666663, 76]\n"
          ]
        }
      ]
    },
    {
      "cell_type": "markdown",
      "source": [
        "### How many notes are played at a time?\n",
        "\n",
        "* Do we want a range of how many notes (find the max for the whole song?)\n",
        "\n",
        "* Or how many notes per unit of time (measure?)"
      ],
      "metadata": {
        "id": "ZmVWvscwjdwN"
      }
    },
    {
      "cell_type": "code",
      "source": [
        "# Find the range of \"notes at a time\" for the whole song\n",
        "\n",
        "maxNotes = 0\n",
        "count = 0\n",
        "for i in output:\n",
        "  if i[0] == 'note_on':\n",
        "    count+=1\n",
        "  else:\n",
        "    count-=1\n",
        "  \n",
        "  if count > maxNotes:\n",
        "    maxNotes = count\n",
        "\n",
        "print(f\"Maximum number of notes played at the same time in the whole song is {maxNotes}\")"
      ],
      "metadata": {
        "colab": {
          "base_uri": "https://localhost:8080/"
        },
        "id": "GVduskt4jpTX",
        "outputId": "cd9c5e7f-fea4-4b1d-bf0f-f4a410abb6e9"
      },
      "execution_count": null,
      "outputs": [
        {
          "output_type": "stream",
          "name": "stdout",
          "text": [
            "Maximum number of notes played at the same time in the whole song is 6\n"
          ]
        }
      ]
    },
    {
      "cell_type": "markdown",
      "source": [
        "6 seems small so I'm going to find out what the song is and listen to it to see if that makes sense"
      ],
      "metadata": {
        "id": "Pt0aX5oUv6yA"
      }
    },
    {
      "cell_type": "code",
      "source": [
        "import pandas as pd"
      ],
      "metadata": {
        "id": "tecLbaQCGW9O"
      },
      "execution_count": null,
      "outputs": []
    },
    {
      "cell_type": "code",
      "source": [
        "df3 = pd.read_json(\"/content/drive/MyDrive/Colab Notebooks/Pattern rec/Music project/maestro-v3.0.0/maestro-v3.0.0.json\")"
      ],
      "metadata": {
        "id": "yFHgJ0val9e7"
      },
      "execution_count": null,
      "outputs": []
    },
    {
      "cell_type": "code",
      "source": [
        "for i in range(df3.shape[0]):\n",
        "  if df3['midi_filename'][i] == '2004/MIDI-Unprocessed_SMF_02_R1_2004_01-05_ORIG_MID--AUDIO_02_R1_2004_05_Track05_wav.midi':\n",
        "    print(df3['canonical_composer'][i])\n",
        "    print(df3['canonical_title'][i])"
      ],
      "metadata": {
        "colab": {
          "base_uri": "https://localhost:8080/"
        },
        "id": "KNdx_tpQpOYf",
        "outputId": "239b31f7-7ea9-4f48-fd89-468b73388e3b"
      },
      "execution_count": null,
      "outputs": [
        {
          "output_type": "stream",
          "name": "stdout",
          "text": [
            "Johann Sebastian Bach\n",
            "French Suite No. 5 in G Major\n"
          ]
        }
      ]
    },
    {
      "cell_type": "markdown",
      "source": [
        "I listened to the song and looked at (some of) the sheet music, and 6 notes looks reasonable"
      ],
      "metadata": {
        "id": "JHXk9A5TwVgA"
      }
    },
    {
      "cell_type": "code",
      "source": [
        "# Next, try # of notes per time interval"
      ],
      "metadata": {
        "id": "aElWKMq-wrfr"
      },
      "execution_count": null,
      "outputs": []
    },
    {
      "cell_type": "markdown",
      "source": [
        "\n",
        "### Sequences of notes/distance between notes played in a row (interval)\n",
        "* only look at note_on, calculate distance between note\n",
        "* only look for certain time units?"
      ],
      "metadata": {
        "id": "BGvZwC-JjyTE"
      }
    },
    {
      "cell_type": "code",
      "source": [
        "# This will find the average \"distance\" (number of notes) between\n",
        "# one note and the next\n",
        "import numpy as np\n",
        "\n",
        "note = output[0][1]\n",
        "distanceSum = 0\n",
        "numNoteOn = 0\n",
        "\n",
        "for i in output:\n",
        "  if i[0] == 'note_on':\n",
        "    numNoteOn += 1\n",
        "    # print(note)\n",
        "    # print(i[1])\n",
        "    distanceSum += np.abs(i[1] - note)\n",
        "    # print(distanceSum)\n",
        "    # print()\n",
        "    note = i[1]\n",
        "\n",
        "avgDist = distanceSum/numNoteOn\n",
        "print(f\"The average interval between notes played in a sequence is {avgDist}\")"
      ],
      "metadata": {
        "colab": {
          "base_uri": "https://localhost:8080/"
        },
        "id": "iyI4YSsOwq_C",
        "outputId": "2340fa91-ee4c-48a3-8662-96ec0c5d3e59"
      },
      "execution_count": null,
      "outputs": [
        {
          "output_type": "stream",
          "name": "stdout",
          "text": [
            "The average interval between notes played in a sequence is 13.710919685837345\n"
          ]
        }
      ]
    },
    {
      "cell_type": "markdown",
      "source": [
        "I used the print lines to double check the number that I got, and based on looking at a couple of chunks of data, it looks like the loop works as intended"
      ],
      "metadata": {
        "id": "ZOfEGzpezJsP"
      }
    },
    {
      "cell_type": "markdown",
      "source": [
        "Another thing to check may be interval between notes played at the same time"
      ],
      "metadata": {
        "id": "LbJg1ucyz3A2"
      }
    },
    {
      "cell_type": "markdown",
      "source": [
        "### How quickly notes are played\n",
        "* difference between time events\n",
        "\n",
        "* note_on to note_on for any note"
      ],
      "metadata": {
        "id": "yeimn4Ckj7da"
      }
    },
    {
      "cell_type": "code",
      "source": [
        "# Find the average difference between note_on events\n",
        "\n",
        "time = output[0][2]\n",
        "timeDiffSum = 0\n",
        "numNoteOn = 0\n",
        "\n",
        "for i in output:\n",
        "  if i[0] == 'note_on':\n",
        "    numNoteOn += 1\n",
        "    timeDiffSum += np.abs(i[2] - time)\n",
        "    time = i[2]\n",
        "\n",
        "avgTime = timeDiffSum/numNoteOn\n",
        "\n",
        "print(f\"The average time between notes played in a sequence is {avgTime} time units (?)\")"
      ],
      "metadata": {
        "colab": {
          "base_uri": "https://localhost:8080/"
        },
        "id": "PoAoE5MJkBrM",
        "outputId": "2ed6f0bc-10a2-4c97-f644-f5a3ba60d35c"
      },
      "execution_count": null,
      "outputs": [
        {
          "output_type": "stream",
          "name": "stdout",
          "text": [
            "The average time between notes played in a sequence is 0.06786800101342855 time units (?)\n"
          ]
        }
      ]
    },
    {
      "cell_type": "markdown",
      "source": [
        "Need to double check time units to see if this makes sense"
      ],
      "metadata": {
        "id": "4Jqs8eaI06sp"
      }
    },
    {
      "cell_type": "markdown",
      "source": [
        "### How long are notes on average\n",
        "* note_on to note_off for the same note"
      ],
      "metadata": {
        "id": "mCLYLcLKkEeW"
      }
    },
    {
      "cell_type": "code",
      "source": [
        "# Might be better suited for the other format"
      ],
      "metadata": {
        "id": "vq1K7jEGkGny"
      },
      "execution_count": null,
      "outputs": []
    },
    {
      "cell_type": "markdown",
      "source": [
        "### Velocity\n",
        "* Range?\n",
        "\n",
        "* Average velocity?"
      ],
      "metadata": {
        "id": "5foLSyJXkHOd"
      }
    },
    {
      "cell_type": "code",
      "source": [
        "# Find the range of velocity\n",
        "\n",
        "velocities = []\n",
        "\n",
        "for i in output:\n",
        "  velocities.append(i[3])\n",
        "\n",
        "maxVelocity = max(velocities)\n",
        "print(f\"The max velocity is {maxVelocity}\")"
      ],
      "metadata": {
        "colab": {
          "base_uri": "https://localhost:8080/"
        },
        "id": "RiGroLfBkNDP",
        "outputId": "2a2321b5-c13a-4bd4-ec7a-a9f162f533fe"
      },
      "execution_count": null,
      "outputs": [
        {
          "output_type": "stream",
          "name": "stdout",
          "text": [
            "The max velocity is 96\n"
          ]
        }
      ]
    },
    {
      "cell_type": "code",
      "source": [
        "# Find the average velocity\n",
        "\n",
        "# I've found this value 3 times now... should really just reuse the value\n",
        "# I found the first time ...\n",
        "numNoteOn = 0\n",
        "velocitySum = 0\n",
        "\n",
        "for i in output:\n",
        "  if i[0] == 'note_on':\n",
        "    numNoteOn += 1\n",
        "    velocitySum += i[3]\n",
        "\n",
        "avgVelocity = velocitySum/numNoteOn\n",
        "print(f\"The average velocity for the whole song is {avgVelocity}\")"
      ],
      "metadata": {
        "colab": {
          "base_uri": "https://localhost:8080/"
        },
        "id": "1R-9UxHO2_K2",
        "outputId": "b35eba58-ed70-47fb-d713-a0a1c30281cb"
      },
      "execution_count": null,
      "outputs": [
        {
          "output_type": "stream",
          "name": "stdout",
          "text": [
            "The average velocity for the whole song is 69.02584241195845\n"
          ]
        }
      ]
    },
    {
      "cell_type": "code",
      "source": [
        ""
      ],
      "metadata": {
        "id": "0RsIrwA33udN"
      },
      "execution_count": null,
      "outputs": []
    }
  ]
}