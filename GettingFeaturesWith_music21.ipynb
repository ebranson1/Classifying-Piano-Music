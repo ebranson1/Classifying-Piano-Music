{
  "nbformat": 4,
  "nbformat_minor": 0,
  "metadata": {
    "colab": {
      "name": "GettingFeaturesWith_music21.ipynb",
      "provenance": []
    },
    "kernelspec": {
      "name": "python3",
      "display_name": "Python 3"
    },
    "language_info": {
      "name": "python"
    }
  },
  "cells": [
    {
      "cell_type": "markdown",
      "source": [
        "Features documentation: https://web.mit.edu/music21/doc/moduleReference/moduleFeaturesJSymbolic.html "
      ],
      "metadata": {
        "id": "IPbuzjCmSnH2"
      }
    },
    {
      "cell_type": "markdown",
      "metadata": {
        "id": "7ayYu78SYWs7"
      },
      "source": [
        "# Set up music21 for Colab\n",
        "\n",
        "Click the play button below to upgrade music21 and install MuseScore to use in Google Colab"
      ]
    },
    {
      "cell_type": "code",
      "metadata": {
        "id": "0bh1YgqP56Gq",
        "colab": {
          "base_uri": "https://localhost:8080/"
        },
        "outputId": "d448e8a1-bd11-4770-f4cc-596d31b986ce"
      },
      "source": [
        "!pip install --upgrade music21"
      ],
      "execution_count": null,
      "outputs": [
        {
          "output_type": "stream",
          "name": "stdout",
          "text": [
            "Requirement already satisfied: music21 in /usr/local/lib/python3.7/dist-packages (7.3.3)\n",
            "Requirement already satisfied: numpy in /usr/local/lib/python3.7/dist-packages (from music21) (1.21.6)\n",
            "Requirement already satisfied: joblib in /usr/local/lib/python3.7/dist-packages (from music21) (1.1.0)\n",
            "Requirement already satisfied: chardet in /usr/local/lib/python3.7/dist-packages (from music21) (3.0.4)\n",
            "Requirement already satisfied: matplotlib in /usr/local/lib/python3.7/dist-packages (from music21) (3.2.2)\n",
            "Requirement already satisfied: webcolors>=1.5 in /usr/local/lib/python3.7/dist-packages (from music21) (1.11.1)\n",
            "Requirement already satisfied: jsonpickle in /usr/local/lib/python3.7/dist-packages (from music21) (2.1.0)\n",
            "Requirement already satisfied: more-itertools in /usr/local/lib/python3.7/dist-packages (from music21) (8.12.0)\n",
            "Requirement already satisfied: importlib-metadata in /usr/local/lib/python3.7/dist-packages (from jsonpickle->music21) (4.11.3)\n",
            "Requirement already satisfied: zipp>=0.5 in /usr/local/lib/python3.7/dist-packages (from importlib-metadata->jsonpickle->music21) (3.8.0)\n",
            "Requirement already satisfied: typing-extensions>=3.6.4 in /usr/local/lib/python3.7/dist-packages (from importlib-metadata->jsonpickle->music21) (4.2.0)\n",
            "Requirement already satisfied: pyparsing!=2.0.4,!=2.1.2,!=2.1.6,>=2.0.1 in /usr/local/lib/python3.7/dist-packages (from matplotlib->music21) (3.0.8)\n",
            "Requirement already satisfied: kiwisolver>=1.0.1 in /usr/local/lib/python3.7/dist-packages (from matplotlib->music21) (1.4.2)\n",
            "Requirement already satisfied: python-dateutil>=2.1 in /usr/local/lib/python3.7/dist-packages (from matplotlib->music21) (2.8.2)\n",
            "Requirement already satisfied: cycler>=0.10 in /usr/local/lib/python3.7/dist-packages (from matplotlib->music21) (0.11.0)\n",
            "Requirement already satisfied: six>=1.5 in /usr/local/lib/python3.7/dist-packages (from python-dateutil>=2.1->matplotlib->music21) (1.15.0)\n"
          ]
        }
      ]
    },
    {
      "cell_type": "code",
      "metadata": {
        "id": "8r3K2_Tu7NUo",
        "colab": {
          "base_uri": "https://localhost:8080/"
        },
        "outputId": "fe691b1e-f919-4647-bfe7-24a6853f7612"
      },
      "source": [
        "!add-apt-repository ppa:mscore-ubuntu/mscore-stable -y\n",
        "!apt-get update\n",
        "!apt-get install musescore"
      ],
      "execution_count": null,
      "outputs": [
        {
          "output_type": "stream",
          "name": "stdout",
          "text": [
            "\r0% [Working]\r            \rHit:1 https://developer.download.nvidia.com/compute/cuda/repos/ubuntu1804/x86_64  InRelease\n",
            "\r0% [Connecting to archive.ubuntu.com (91.189.91.39)] [Connecting to security.ub\r0% [1 InRelease gpgv 1,575 B] [Waiting for headers] [Waiting for headers] [Wait\r                                                                               \rGet:2 https://cloud.r-project.org/bin/linux/ubuntu bionic-cran40/ InRelease [3,626 B]\n",
            "\r0% [1 InRelease gpgv 1,575 B] [Waiting for headers] [Waiting for headers] [2 In\r0% [1 InRelease gpgv 1,575 B] [Waiting for headers] [Waiting for headers] [Conn\r                                                                               \rIgn:3 https://developer.download.nvidia.com/compute/machine-learning/repos/ubuntu1804/x86_64  InRelease\n",
            "Hit:4 https://developer.download.nvidia.com/compute/machine-learning/repos/ubuntu1804/x86_64  Release\n",
            "Get:5 http://security.ubuntu.com/ubuntu bionic-security InRelease [88.7 kB]\n",
            "Hit:6 http://archive.ubuntu.com/ubuntu bionic InRelease\n",
            "Get:7 http://archive.ubuntu.com/ubuntu bionic-updates InRelease [88.7 kB]\n",
            "Get:8 http://ppa.launchpad.net/c2d4u.team/c2d4u4.0+/ubuntu bionic InRelease [15.9 kB]\n",
            "Get:9 http://archive.ubuntu.com/ubuntu bionic-backports InRelease [74.6 kB]\n",
            "Hit:10 http://ppa.launchpad.net/cran/libgit2/ubuntu bionic InRelease\n",
            "Hit:11 http://ppa.launchpad.net/deadsnakes/ppa/ubuntu bionic InRelease\n",
            "Hit:12 http://ppa.launchpad.net/graphics-drivers/ppa/ubuntu bionic InRelease\n",
            "Get:14 http://ppa.launchpad.net/mscore-ubuntu/mscore-stable/ubuntu bionic InRelease [15.4 kB]\n",
            "Get:15 http://archive.ubuntu.com/ubuntu bionic-updates/main amd64 Packages [3,167 kB]\n",
            "Get:16 http://ppa.launchpad.net/c2d4u.team/c2d4u4.0+/ubuntu bionic/main Sources [1,950 kB]\n",
            "Get:17 http://ppa.launchpad.net/c2d4u.team/c2d4u4.0+/ubuntu bionic/main amd64 Packages [999 kB]\n",
            "Get:18 http://ppa.launchpad.net/mscore-ubuntu/mscore-stable/ubuntu bionic/main amd64 Packages [1,831 B]\n",
            "Fetched 6,405 kB in 7s (924 kB/s)\n",
            "Reading package lists... Done\n",
            "Hit:1 https://cloud.r-project.org/bin/linux/ubuntu bionic-cran40/ InRelease\n",
            "Hit:2 https://developer.download.nvidia.com/compute/cuda/repos/ubuntu1804/x86_64  InRelease\n",
            "Hit:3 http://security.ubuntu.com/ubuntu bionic-security InRelease\n",
            "Ign:4 https://developer.download.nvidia.com/compute/machine-learning/repos/ubuntu1804/x86_64  InRelease\n",
            "Hit:5 http://archive.ubuntu.com/ubuntu bionic InRelease\n",
            "Hit:6 https://developer.download.nvidia.com/compute/machine-learning/repos/ubuntu1804/x86_64  Release\n",
            "Hit:7 http://archive.ubuntu.com/ubuntu bionic-updates InRelease\n",
            "Hit:8 http://ppa.launchpad.net/c2d4u.team/c2d4u4.0+/ubuntu bionic InRelease\n",
            "Hit:9 http://archive.ubuntu.com/ubuntu bionic-backports InRelease\n",
            "Hit:10 http://ppa.launchpad.net/cran/libgit2/ubuntu bionic InRelease\n",
            "Hit:11 http://ppa.launchpad.net/deadsnakes/ppa/ubuntu bionic InRelease\n",
            "Hit:12 http://ppa.launchpad.net/graphics-drivers/ppa/ubuntu bionic InRelease\n",
            "Hit:13 http://ppa.launchpad.net/mscore-ubuntu/mscore-stable/ubuntu bionic InRelease\n",
            "Reading package lists... Done\n",
            "Reading package lists... Done\n",
            "Building dependency tree       \n",
            "Reading state information... Done\n",
            "The following packages were automatically installed and are no longer required:\n",
            "  libnvidia-common-460 nsight-compute-2020.2.0\n",
            "Use 'apt autoremove' to remove them.\n",
            "The following additional packages will be installed:\n",
            "  desktop-file-utils fonts-freefont-ttf libgl1-mesa-glx libportaudio2\n",
            "  libportmidi0 libqt5help5 libqt5qml5 libqt5quick5 libqt5svg5\n",
            "  libqt5xmlpatterns5 musescore-common musescore-general-soundfont-small\n",
            "  qml-module-qtgraphicaleffects qml-module-qtquick-controls\n",
            "  qml-module-qtquick-dialogs qml-module-qtquick-layouts\n",
            "  qml-module-qtquick-privatewidgets qml-module-qtquick-window2\n",
            "  qml-module-qtquick2\n",
            "Suggested packages:\n",
            "  qt5-qmltooling-plugins pulseaudio-utils\n",
            "The following NEW packages will be installed:\n",
            "  desktop-file-utils fonts-freefont-ttf libgl1-mesa-glx libportaudio2\n",
            "  libportmidi0 libqt5help5 libqt5qml5 libqt5quick5 libqt5svg5\n",
            "  libqt5xmlpatterns5 musescore musescore-common\n",
            "  musescore-general-soundfont-small qml-module-qtgraphicaleffects\n",
            "  qml-module-qtquick-controls qml-module-qtquick-dialogs\n",
            "  qml-module-qtquick-layouts qml-module-qtquick-privatewidgets\n",
            "  qml-module-qtquick-window2 qml-module-qtquick2\n",
            "0 upgraded, 20 newly installed, 0 to remove and 42 not upgraded.\n",
            "Need to get 51.8 MB of archives.\n",
            "After this operation, 116 MB of additional disk space will be used.\n",
            "Get:1 http://archive.ubuntu.com/ubuntu bionic-updates/main amd64 libqt5svg5 amd64 5.9.5-0ubuntu1.1 [129 kB]\n",
            "Get:2 http://ppa.launchpad.net/mscore-ubuntu/mscore-stable/ubuntu bionic/main amd64 musescore-general-soundfont-small all 0.2.1-1~ppa [34.2 MB]\n",
            "Get:3 http://archive.ubuntu.com/ubuntu bionic-updates/universe amd64 libqt5qml5 amd64 5.9.5-0ubuntu1.1 [1,242 kB]\n",
            "Get:4 http://archive.ubuntu.com/ubuntu bionic-updates/universe amd64 libqt5quick5 amd64 5.9.5-0ubuntu1.1 [1,201 kB]\n",
            "Get:5 http://archive.ubuntu.com/ubuntu bionic-updates/universe amd64 qml-module-qtquick-window2 amd64 5.9.5-0ubuntu1.1 [18.1 kB]\n",
            "Get:6 http://archive.ubuntu.com/ubuntu bionic-updates/universe amd64 qml-module-qtquick2 amd64 5.9.5-0ubuntu1.1 [31.4 kB]\n",
            "Get:7 http://archive.ubuntu.com/ubuntu bionic/universe amd64 qml-module-qtgraphicaleffects amd64 5.9.5-0ubuntu1 [96.1 kB]\n",
            "Get:8 http://archive.ubuntu.com/ubuntu bionic-updates/universe amd64 qml-module-qtquick-layouts amd64 5.9.5-0ubuntu1.1 [44.9 kB]\n",
            "Get:9 http://archive.ubuntu.com/ubuntu bionic/universe amd64 qml-module-qtquick-controls amd64 5.9.5-0ubuntu1 [712 kB]\n",
            "Get:10 http://archive.ubuntu.com/ubuntu bionic-updates/main amd64 desktop-file-utils amd64 0.23-1ubuntu3.18.04.2 [51.4 kB]\n",
            "Get:11 http://archive.ubuntu.com/ubuntu bionic/main amd64 fonts-freefont-ttf all 20120503-7 [4,202 kB]\n",
            "Get:12 http://archive.ubuntu.com/ubuntu bionic-updates/main amd64 libgl1-mesa-glx amd64 20.0.8-0ubuntu1~18.04.1 [5,532 B]\n",
            "Get:13 http://archive.ubuntu.com/ubuntu bionic/universe amd64 libportaudio2 amd64 19.6.0-1 [64.6 kB]\n",
            "Get:14 http://archive.ubuntu.com/ubuntu bionic/universe amd64 libportmidi0 amd64 1:217-6 [17.8 kB]\n",
            "Get:15 http://archive.ubuntu.com/ubuntu bionic/universe amd64 libqt5help5 amd64 5.9.5-0ubuntu1 [133 kB]\n",
            "Get:16 http://archive.ubuntu.com/ubuntu bionic/universe amd64 libqt5xmlpatterns5 amd64 5.9.5-0ubuntu1 [916 kB]\n",
            "Get:17 http://archive.ubuntu.com/ubuntu bionic/universe amd64 qml-module-qtquick-privatewidgets amd64 5.9.5-0ubuntu1 [41.7 kB]\n",
            "Get:18 http://archive.ubuntu.com/ubuntu bionic/universe amd64 qml-module-qtquick-dialogs amd64 5.9.5-0ubuntu1 [122 kB]\n",
            "Get:19 http://ppa.launchpad.net/mscore-ubuntu/mscore-stable/ubuntu bionic/main amd64 musescore-common all 2.3.2+dfsg4-15~ppa1804+1 [3,358 kB]\n",
            "Get:20 http://ppa.launchpad.net/mscore-ubuntu/mscore-stable/ubuntu bionic/main amd64 musescore amd64 2.3.2+dfsg4-15~ppa1804+1 [5,271 kB]\n",
            "Fetched 51.8 MB in 6s (9,189 kB/s)\n",
            "Selecting previously unselected package libqt5svg5:amd64.\n",
            "(Reading database ... 155202 files and directories currently installed.)\n",
            "Preparing to unpack .../00-libqt5svg5_5.9.5-0ubuntu1.1_amd64.deb ...\n",
            "Unpacking libqt5svg5:amd64 (5.9.5-0ubuntu1.1) ...\n",
            "Selecting previously unselected package libqt5qml5:amd64.\n",
            "Preparing to unpack .../01-libqt5qml5_5.9.5-0ubuntu1.1_amd64.deb ...\n",
            "Unpacking libqt5qml5:amd64 (5.9.5-0ubuntu1.1) ...\n",
            "Selecting previously unselected package libqt5quick5:amd64.\n",
            "Preparing to unpack .../02-libqt5quick5_5.9.5-0ubuntu1.1_amd64.deb ...\n",
            "Unpacking libqt5quick5:amd64 (5.9.5-0ubuntu1.1) ...\n",
            "Selecting previously unselected package qml-module-qtquick-window2:amd64.\n",
            "Preparing to unpack .../03-qml-module-qtquick-window2_5.9.5-0ubuntu1.1_amd64.deb ...\n",
            "Unpacking qml-module-qtquick-window2:amd64 (5.9.5-0ubuntu1.1) ...\n",
            "Selecting previously unselected package qml-module-qtquick2:amd64.\n",
            "Preparing to unpack .../04-qml-module-qtquick2_5.9.5-0ubuntu1.1_amd64.deb ...\n",
            "Unpacking qml-module-qtquick2:amd64 (5.9.5-0ubuntu1.1) ...\n",
            "Selecting previously unselected package qml-module-qtgraphicaleffects:amd64.\n",
            "Preparing to unpack .../05-qml-module-qtgraphicaleffects_5.9.5-0ubuntu1_amd64.deb ...\n",
            "Unpacking qml-module-qtgraphicaleffects:amd64 (5.9.5-0ubuntu1) ...\n",
            "Selecting previously unselected package qml-module-qtquick-layouts:amd64.\n",
            "Preparing to unpack .../06-qml-module-qtquick-layouts_5.9.5-0ubuntu1.1_amd64.deb ...\n",
            "Unpacking qml-module-qtquick-layouts:amd64 (5.9.5-0ubuntu1.1) ...\n",
            "Selecting previously unselected package qml-module-qtquick-controls:amd64.\n",
            "Preparing to unpack .../07-qml-module-qtquick-controls_5.9.5-0ubuntu1_amd64.deb ...\n",
            "Unpacking qml-module-qtquick-controls:amd64 (5.9.5-0ubuntu1) ...\n",
            "Selecting previously unselected package desktop-file-utils.\n",
            "Preparing to unpack .../08-desktop-file-utils_0.23-1ubuntu3.18.04.2_amd64.deb ...\n",
            "Unpacking desktop-file-utils (0.23-1ubuntu3.18.04.2) ...\n",
            "Selecting previously unselected package fonts-freefont-ttf.\n",
            "Preparing to unpack .../09-fonts-freefont-ttf_20120503-7_all.deb ...\n",
            "Unpacking fonts-freefont-ttf (20120503-7) ...\n",
            "Selecting previously unselected package libgl1-mesa-glx:amd64.\n",
            "Preparing to unpack .../10-libgl1-mesa-glx_20.0.8-0ubuntu1~18.04.1_amd64.deb ...\n",
            "Unpacking libgl1-mesa-glx:amd64 (20.0.8-0ubuntu1~18.04.1) ...\n",
            "Selecting previously unselected package libportaudio2:amd64.\n",
            "Preparing to unpack .../11-libportaudio2_19.6.0-1_amd64.deb ...\n",
            "Unpacking libportaudio2:amd64 (19.6.0-1) ...\n",
            "Selecting previously unselected package libportmidi0:amd64.\n",
            "Preparing to unpack .../12-libportmidi0_1%3a217-6_amd64.deb ...\n",
            "Unpacking libportmidi0:amd64 (1:217-6) ...\n",
            "Selecting previously unselected package libqt5help5:amd64.\n",
            "Preparing to unpack .../13-libqt5help5_5.9.5-0ubuntu1_amd64.deb ...\n",
            "Unpacking libqt5help5:amd64 (5.9.5-0ubuntu1) ...\n",
            "Selecting previously unselected package libqt5xmlpatterns5:amd64.\n",
            "Preparing to unpack .../14-libqt5xmlpatterns5_5.9.5-0ubuntu1_amd64.deb ...\n",
            "Unpacking libqt5xmlpatterns5:amd64 (5.9.5-0ubuntu1) ...\n",
            "Selecting previously unselected package qml-module-qtquick-privatewidgets:amd64.\n",
            "Preparing to unpack .../15-qml-module-qtquick-privatewidgets_5.9.5-0ubuntu1_amd64.deb ...\n",
            "Unpacking qml-module-qtquick-privatewidgets:amd64 (5.9.5-0ubuntu1) ...\n",
            "Selecting previously unselected package qml-module-qtquick-dialogs:amd64.\n",
            "Preparing to unpack .../16-qml-module-qtquick-dialogs_5.9.5-0ubuntu1_amd64.deb ...\n",
            "Unpacking qml-module-qtquick-dialogs:amd64 (5.9.5-0ubuntu1) ...\n",
            "Selecting previously unselected package musescore-general-soundfont-small.\n",
            "Preparing to unpack .../17-musescore-general-soundfont-small_0.2.1-1~ppa_all.deb ...\n",
            "Unpacking musescore-general-soundfont-small (0.2.1-1~ppa) ...\n",
            "Selecting previously unselected package musescore-common.\n",
            "Preparing to unpack .../18-musescore-common_2.3.2+dfsg4-15~ppa1804+1_all.deb ...\n",
            "Unpacking musescore-common (2.3.2+dfsg4-15~ppa1804+1) ...\n",
            "Selecting previously unselected package musescore.\n",
            "Preparing to unpack .../19-musescore_2.3.2+dfsg4-15~ppa1804+1_amd64.deb ...\n",
            "Unpacking musescore (2.3.2+dfsg4-15~ppa1804+1) ...\n",
            "Setting up libqt5qml5:amd64 (5.9.5-0ubuntu1.1) ...\n",
            "Setting up libqt5quick5:amd64 (5.9.5-0ubuntu1.1) ...\n",
            "Setting up qml-module-qtquick2:amd64 (5.9.5-0ubuntu1.1) ...\n",
            "Setting up libportaudio2:amd64 (19.6.0-1) ...\n",
            "Setting up desktop-file-utils (0.23-1ubuntu3.18.04.2) ...\n",
            "Setting up qml-module-qtquick-layouts:amd64 (5.9.5-0ubuntu1.1) ...\n",
            "Setting up musescore-general-soundfont-small (0.2.1-1~ppa) ...\n",
            "update-alternatives: using /usr/share/sounds/sf3/MuseScore_General_Lite.sf3 to provide /usr/share/sounds/sf3/default-GM.sf3 (default-GM.sf3) in auto mode\n",
            "update-alternatives: using /usr/share/sounds/sf3/MuseScore_General_Lite.sf3 to provide /usr/share/sounds/sf3/MuseScore_General.sf3 (MuseScore_General.sf3) in auto mode\n",
            "Setting up libqt5help5:amd64 (5.9.5-0ubuntu1) ...\n",
            "Setting up libqt5xmlpatterns5:amd64 (5.9.5-0ubuntu1) ...\n",
            "Setting up musescore-common (2.3.2+dfsg4-15~ppa1804+1) ...\n",
            "Setting up qml-module-qtquick-privatewidgets:amd64 (5.9.5-0ubuntu1) ...\n",
            "Setting up libgl1-mesa-glx:amd64 (20.0.8-0ubuntu1~18.04.1) ...\n",
            "Setting up libportmidi0:amd64 (1:217-6) ...\n",
            "Setting up libqt5svg5:amd64 (5.9.5-0ubuntu1.1) ...\n",
            "Setting up qml-module-qtquick-window2:amd64 (5.9.5-0ubuntu1.1) ...\n",
            "Setting up qml-module-qtquick-dialogs:amd64 (5.9.5-0ubuntu1) ...\n",
            "Setting up fonts-freefont-ttf (20120503-7) ...\n",
            "Setting up qml-module-qtgraphicaleffects:amd64 (5.9.5-0ubuntu1) ...\n",
            "Setting up qml-module-qtquick-controls:amd64 (5.9.5-0ubuntu1) ...\n",
            "Setting up musescore (2.3.2+dfsg4-15~ppa1804+1) ...\n",
            "Processing triggers for libc-bin (2.27-3ubuntu1.3) ...\n",
            "/sbin/ldconfig.real: /usr/local/lib/python3.7/dist-packages/ideep4py/lib/libmkldnn.so.0 is not a symbolic link\n",
            "\n",
            "Processing triggers for man-db (2.8.3-2ubuntu0.1) ...\n",
            "Processing triggers for shared-mime-info (1.9-2) ...\n",
            "Processing triggers for hicolor-icon-theme (0.17-2) ...\n",
            "Processing triggers for fontconfig (2.12.6-0ubuntu2) ...\n",
            "Processing triggers for mime-support (3.60ubuntu1) ...\n"
          ]
        }
      ]
    },
    {
      "cell_type": "code",
      "metadata": {
        "id": "Yxxz3oEIVkeI",
        "colab": {
          "base_uri": "https://localhost:8080/"
        },
        "outputId": "ddb4acbe-0dc5-4662-8011-c50b95520bb6"
      },
      "source": [
        "!apt-get install xvfb"
      ],
      "execution_count": null,
      "outputs": [
        {
          "output_type": "stream",
          "name": "stdout",
          "text": [
            "Reading package lists... Done\n",
            "Building dependency tree       \n",
            "Reading state information... Done\n",
            "The following packages were automatically installed and are no longer required:\n",
            "  libnvidia-common-460 nsight-compute-2020.2.0\n",
            "Use 'apt autoremove' to remove them.\n",
            "The following NEW packages will be installed:\n",
            "  xvfb\n",
            "0 upgraded, 1 newly installed, 0 to remove and 42 not upgraded.\n",
            "Need to get 784 kB of archives.\n",
            "After this operation, 2,271 kB of additional disk space will be used.\n",
            "Get:1 http://archive.ubuntu.com/ubuntu bionic-updates/universe amd64 xvfb amd64 2:1.19.6-1ubuntu4.10 [784 kB]\n",
            "Fetched 784 kB in 1s (1,257 kB/s)\n",
            "Selecting previously unselected package xvfb.\n",
            "(Reading database ... 156170 files and directories currently installed.)\n",
            "Preparing to unpack .../xvfb_2%3a1.19.6-1ubuntu4.10_amd64.deb ...\n",
            "Unpacking xvfb (2:1.19.6-1ubuntu4.10) ...\n",
            "Setting up xvfb (2:1.19.6-1ubuntu4.10) ...\n",
            "Processing triggers for man-db (2.8.3-2ubuntu0.1) ...\n"
          ]
        }
      ]
    },
    {
      "cell_type": "code",
      "metadata": {
        "id": "CP91XD_o8nr4"
      },
      "source": [
        "from music21 import *\n",
        "us = environment.UserSettings()\n",
        "us['musescoreDirectPNGPath'] = '/usr/bin/mscore'\n",
        "us['directoryScratch'] = '/tmp'\n",
        "\n",
        "# music21 is Open Source under the BSD License\n",
        "# Copyright (c) 2006-22 Michael Scott Asato Cuthbert and cuthbertLab\n",
        "# Support music21 by citing it in your research or produts:\n",
        "#\n",
        "#     Cuthbert, Michael Scott.  \n",
        "#     _music21: a Toolkit for Computer-Aided Music Research_\n",
        "#     https://web.mit.edu/music21\n",
        "#     2006-22"
      ],
      "execution_count": null,
      "outputs": []
    },
    {
      "cell_type": "markdown",
      "source": [
        "# Test that it's set up"
      ],
      "metadata": {
        "id": "-s8nAMH6IHMg"
      }
    },
    {
      "cell_type": "code",
      "source": [
        "# if this doesn't work, restart the runtime then rerun the setup code\n",
        "\n",
        "from music21 import *\n",
        "n = note.Note('C#5')\n",
        "n.show()"
      ],
      "metadata": {
        "colab": {
          "base_uri": "https://localhost:8080/",
          "height": 66
        },
        "id": "KbskbwovIIvk",
        "outputId": "12ccc504-3f49-435d-dcc3-2e1b26f85ad9"
      },
      "execution_count": null,
      "outputs": [
        {
          "output_type": "display_data",
          "data": {
            "text/plain": [
              "<IPython.core.display.Image object>"
            ],
            "image/png": "[encoded data removed]"
          },
          "metadata": {
            "image/png": {
              "width": 157,
              "height": 49
            }
          }
        }
      ]
    },
    {
      "cell_type": "markdown",
      "source": [
        "# Bring in midi files from MAESTRO"
      ],
      "metadata": {
        "id": "rdxq2fROIK3S"
      }
    },
    {
      "cell_type": "code",
      "source": [
        "import pandas as pd"
      ],
      "metadata": {
        "id": "yDh0oxc1Pe9q"
      },
      "execution_count": null,
      "outputs": []
    },
    {
      "cell_type": "code",
      "source": [
        "from google.colab import drive\n",
        "drive.mount('/content/drive')"
      ],
      "metadata": {
        "colab": {
          "base_uri": "https://localhost:8080/"
        },
        "id": "vd_EnJn-IfKf",
        "outputId": "32e7ce56-c3f1-4657-d617-f9fa4098e3b1"
      },
      "execution_count": null,
      "outputs": [
        {
          "output_type": "stream",
          "name": "stdout",
          "text": [
            "Mounted at /content/drive\n"
          ]
        }
      ]
    },
    {
      "cell_type": "code",
      "source": [
        "df3 = pd.read_json(\"PATH TO MAESTRO JSON FILE\")"
      ],
      "metadata": {
        "id": "xatNKJYzAWq0"
      },
      "execution_count": null,
      "outputs": []
    },
    {
      "cell_type": "code",
      "source": [
        "debussy_songs = []\n",
        "rachman_songs = []\n",
        "\n",
        "for i in range(df3.shape[0]): \n",
        "  if df3['canonical_composer'][i] == \"Claude Debussy\":\n",
        "    debussy_songs.append(df3['midi_filename'][i])\n",
        "\n",
        "for i in range(df3.shape[0]): \n",
        "  if df3['canonical_composer'][i] == \"Sergei Rachmaninoff\":\n",
        "    rachman_songs.append(df3['midi_filename'][i])"
      ],
      "metadata": {
        "id": "tZ5pvPp0AhN0"
      },
      "execution_count": null,
      "outputs": []
    },
    {
      "cell_type": "code",
      "source": [
        "path_prefix = 'PATH TO MAESTRO'\n",
        "debussy_files = []\n",
        "rachman_files = []\n",
        "\n",
        "for i in range(len(debussy_songs)):\n",
        "  debussy_files.append(path_prefix + debussy_songs[i])\n",
        "\n",
        "for i in range(len(rachman_songs)):\n",
        "  rachman_files.append(path_prefix + rachman_songs[i])"
      ],
      "metadata": {
        "id": "PMJsCM0KAqFx"
      },
      "execution_count": null,
      "outputs": []
    },
    {
      "cell_type": "markdown",
      "source": [
        "# Test using music21 with one midi file"
      ],
      "metadata": {
        "id": "wbvqbJWmSAoG"
      }
    },
    {
      "cell_type": "code",
      "source": [
        "df3[df3['midi_filename'] == debussy_songs[0]]"
      ],
      "metadata": {
        "colab": {
          "base_uri": "https://localhost:8080/",
          "height": 81
        },
        "id": "GMAoJWdaaaDr",
        "outputId": "fca30d26-18b9-466d-edfb-b8ff1aa7c913"
      },
      "execution_count": null,
      "outputs": [
        {
          "output_type": "execute_result",
          "data": {
            "text/plain": [
              "   canonical_composer                 canonical_title  split  year  \\\n",
              "41     Claude Debussy  \"Feux d'artifice\" from Book II  train  2008   \n",
              "\n",
              "                                        midi_filename  \\\n",
              "41  2008/MIDI-Unprocessed_10_R3_2008_01-05_ORIG_MI...   \n",
              "\n",
              "                                       audio_filename    duration  \n",
              "41  2008/MIDI-Unprocessed_10_R3_2008_01-05_ORIG_MI...  242.752161  "
            ],
            "text/html": [
              "\n",
              "  <div id=\"df-a278dd17-049d-4cf7-88ba-28506d64734e\">\n",
              "    <div class=\"colab-df-container\">\n",
              "      <div>\n",
              "<style scoped>\n",
              "    .dataframe tbody tr th:only-of-type {\n",
              "        vertical-align: middle;\n",
              "    }\n",
              "\n",
              "    .dataframe tbody tr th {\n",
              "        vertical-align: top;\n",
              "    }\n",
              "\n",
              "    .dataframe thead th {\n",
              "        text-align: right;\n",
              "    }\n",
              "</style>\n",
              "<table border=\"1\" class=\"dataframe\">\n",
              "  <thead>\n",
              "    <tr style=\"text-align: right;\">\n",
              "      <th></th>\n",
              "      <th>canonical_composer</th>\n",
              "      <th>canonical_title</th>\n",
              "      <th>split</th>\n",
              "      <th>year</th>\n",
              "      <th>midi_filename</th>\n",
              "      <th>audio_filename</th>\n",
              "      <th>duration</th>\n",
              "    </tr>\n",
              "  </thead>\n",
              "  <tbody>\n",
              "    <tr>\n",
              "      <th>41</th>\n",
              "      <td>Claude Debussy</td>\n",
              "      <td>\"Feux d'artifice\" from Book II</td>\n",
              "      <td>train</td>\n",
              "      <td>2008</td>\n",
              "      <td>2008/MIDI-Unprocessed_10_R3_2008_01-05_ORIG_MI...</td>\n",
              "      <td>2008/MIDI-Unprocessed_10_R3_2008_01-05_ORIG_MI...</td>\n",
              "      <td>242.752161</td>\n",
              "    </tr>\n",
              "  </tbody>\n",
              "</table>\n",
              "</div>\n",
              "      <button class=\"colab-df-convert\" onclick=\"convertToInteractive('df-a278dd17-049d-4cf7-88ba-28506d64734e')\"\n",
              "              title=\"Convert this dataframe to an interactive table.\"\n",
              "              style=\"display:none;\">\n",
              "        \n",
              "  <svg xmlns=\"http://www.w3.org/2000/svg\" height=\"24px\"viewBox=\"0 0 24 24\"\n",
              "       width=\"24px\">\n",
              "    <path d=\"M0 0h24v24H0V0z\" fill=\"none\"/>\n",
              "    <path d=\"M18.56 5.44l.94 2.06.94-2.06 2.06-.94-2.06-.94-.94-2.06-.94 2.06-2.06.94zm-11 1L8.5 8.5l.94-2.06 2.06-.94-2.06-.94L8.5 2.5l-.94 2.06-2.06.94zm10 10l.94 2.06.94-2.06 2.06-.94-2.06-.94-.94-2.06-.94 2.06-2.06.94z\"/><path d=\"M17.41 7.96l-1.37-1.37c-.4-.4-.92-.59-1.43-.59-.52 0-1.04.2-1.43.59L10.3 9.45l-7.72 7.72c-.78.78-.78 2.05 0 2.83L4 21.41c.39.39.9.59 1.41.59.51 0 1.02-.2 1.41-.59l7.78-7.78 2.81-2.81c.8-.78.8-2.07 0-2.86zM5.41 20L4 18.59l7.72-7.72 1.47 1.35L5.41 20z\"/>\n",
              "  </svg>\n",
              "      </button>\n",
              "      \n",
              "  <style>\n",
              "    .colab-df-container {\n",
              "      display:flex;\n",
              "      flex-wrap:wrap;\n",
              "      gap: 12px;\n",
              "    }\n",
              "\n",
              "    .colab-df-convert {\n",
              "      background-color: #E8F0FE;\n",
              "      border: none;\n",
              "      border-radius: 50%;\n",
              "      cursor: pointer;\n",
              "      display: none;\n",
              "      fill: #1967D2;\n",
              "      height: 32px;\n",
              "      padding: 0 0 0 0;\n",
              "      width: 32px;\n",
              "    }\n",
              "\n",
              "    .colab-df-convert:hover {\n",
              "      background-color: #E2EBFA;\n",
              "      box-shadow: 0px 1px 2px rgba(60, 64, 67, 0.3), 0px 1px 3px 1px rgba(60, 64, 67, 0.15);\n",
              "      fill: #174EA6;\n",
              "    }\n",
              "\n",
              "    [theme=dark] .colab-df-convert {\n",
              "      background-color: #3B4455;\n",
              "      fill: #D2E3FC;\n",
              "    }\n",
              "\n",
              "    [theme=dark] .colab-df-convert:hover {\n",
              "      background-color: #434B5C;\n",
              "      box-shadow: 0px 1px 3px 1px rgba(0, 0, 0, 0.15);\n",
              "      filter: drop-shadow(0px 1px 2px rgba(0, 0, 0, 0.3));\n",
              "      fill: #FFFFFF;\n",
              "    }\n",
              "  </style>\n",
              "\n",
              "      <script>\n",
              "        const buttonEl =\n",
              "          document.querySelector('#df-a278dd17-049d-4cf7-88ba-28506d64734e button.colab-df-convert');\n",
              "        buttonEl.style.display =\n",
              "          google.colab.kernel.accessAllowed ? 'block' : 'none';\n",
              "\n",
              "        async function convertToInteractive(key) {\n",
              "          const element = document.querySelector('#df-a278dd17-049d-4cf7-88ba-28506d64734e');\n",
              "          const dataTable =\n",
              "            await google.colab.kernel.invokeFunction('convertToInteractive',\n",
              "                                                     [key], {});\n",
              "          if (!dataTable) return;\n",
              "\n",
              "          const docLinkHtml = 'Like what you see? Visit the ' +\n",
              "            '<a target=\"_blank\" href=https://colab.research.google.com/notebooks/data_table.ipynb>data table notebook</a>'\n",
              "            + ' to learn more about interactive tables.';\n",
              "          element.innerHTML = '';\n",
              "          dataTable['output_type'] = 'display_data';\n",
              "          await google.colab.output.renderOutput(dataTable, element);\n",
              "          const docLink = document.createElement('div');\n",
              "          docLink.innerHTML = docLinkHtml;\n",
              "          element.appendChild(docLink);\n",
              "        }\n",
              "      </script>\n",
              "    </div>\n",
              "  </div>\n",
              "  "
            ]
          },
          "metadata": {},
          "execution_count": 11
        }
      ]
    },
    {
      "cell_type": "code",
      "source": [
        "fp = debussy_files[0]  #fp = file path (test with one file)\n",
        "streamScore = midi.translate.midiFilePathToStream(fp)"
      ],
      "metadata": {
        "id": "8VSW1kvmRbR8"
      },
      "execution_count": null,
      "outputs": []
    },
    {
      "cell_type": "code",
      "source": [
        "streamScore"
      ],
      "metadata": {
        "colab": {
          "base_uri": "https://localhost:8080/"
        },
        "id": "vVyCAAxRRn0c",
        "outputId": "c00b738d-8fd3-40a1-c131-1318b0496e5e"
      },
      "execution_count": null,
      "outputs": [
        {
          "output_type": "execute_result",
          "data": {
            "text/plain": [
              "<music21.stream.Score 0x7f294f0e8fd0>"
            ]
          },
          "metadata": {},
          "execution_count": 13
        }
      ]
    },
    {
      "cell_type": "code",
      "source": [
        "streamScore.plot('histogram', 'pitchClass', 'count')"
      ],
      "metadata": {
        "colab": {
          "base_uri": "https://localhost:8080/",
          "height": 417
        },
        "id": "k2FiT7sURuIQ",
        "outputId": "394038b3-bc78-490f-ea95-c61f50cc0633"
      },
      "execution_count": null,
      "outputs": [
        {
          "output_type": "execute_result",
          "data": {
            "text/plain": [
              "<music21.graph.plot.HistogramPitchClass for <music21.stream.Score 0x7f294f0e8fd0>>"
            ]
          },
          "metadata": {},
          "execution_count": 14
        },
        {
          "output_type": "display_data",
          "data": {
            "text/plain": [
              "<Figure size 432x432 with 1 Axes>"
            ],
            "image/png": "[encoded data removed]"
          },
          "metadata": {
            "image/png": {
              "width": 372,
              "height": 382
            }
          }
        }
      ]
    },
    {
      "cell_type": "code",
      "source": [
        "# streamScore.show('midi')"
      ],
      "metadata": {
        "id": "8Rg3d6rAyU-c"
      },
      "execution_count": null,
      "outputs": []
    },
    {
      "cell_type": "markdown",
      "source": [
        "I also listened to the midi version of this song and it sounds like the song but it also looks and sounds like it's missing a lot of notes/info. Then I tried with a simpler song (slower, fewer notes) and it sounded much better."
      ],
      "metadata": {
        "id": "GXkZPtALdOlR"
      }
    },
    {
      "cell_type": "code",
      "source": [
        "# Try extracting one feature\n",
        "\n",
        "''' Fraction of horizontal intervals that are repeated notes, minor thirds, major thirds,\n",
        " perfect fifths, minor sevenths, major sevenths, octaves, minor tenths or major tenths.'''\n",
        "\n",
        "fe = features.jSymbolic.AmountOfArpeggiationFeature(streamScore)\n",
        "f = fe.extract()\n",
        "print(f.name)\n",
        "print(f.vector)"
      ],
      "metadata": {
        "colab": {
          "base_uri": "https://localhost:8080/"
        },
        "id": "o4nj5BZbhsKa",
        "outputId": "0961a34f-d864-4b9d-b095-a1e76eff134a"
      },
      "execution_count": null,
      "outputs": [
        {
          "output_type": "stream",
          "name": "stdout",
          "text": [
            "Amount of Arpeggiation\n",
            "[0.6644295302013423]\n"
          ]
        }
      ]
    },
    {
      "cell_type": "markdown",
      "source": [
        "# Great! Now try getting a lot of features out of all of the songs\n",
        "\n",
        "I'm going to start with using:\n",
        "\n",
        "\n",
        "\n",
        "And see if any of them are terrible and ignore them\n"
      ],
      "metadata": {
        "id": "pzUldxSoiarc"
      }
    },
    {
      "cell_type": "code",
      "source": [
        "import matplotlib.pyplot as plt\n",
        "import numpy as np"
      ],
      "metadata": {
        "id": "FP7rkJLCfmQK"
      },
      "execution_count": null,
      "outputs": []
    },
    {
      "cell_type": "code",
      "source": [
        "def getFeaturesOne(song):\n",
        "  fe1 = features.jSymbolic.AmountOfArpeggiationFeature(song)\n",
        "  f1 = fe1.extract()\n",
        "\n",
        "  #fe2 = features.jSymbolic.AverageMelodicIntervalFeature(song)\n",
        "  #f2 = fe2.extract()\n",
        "\n",
        "  #fe3 = features.jSymbolic.AverageNoteDurationFeature(song)\n",
        "  #f3 = fe3.extract()\n",
        "\n",
        "  return f1 #, f2, f3"
      ],
      "metadata": {
        "id": "vDix4qQciGxq"
      },
      "execution_count": null,
      "outputs": []
    },
    {
      "cell_type": "code",
      "source": [
        "#it took 2 minutes to run this on 3 files, 7 min to run 10 files :(\n",
        "\n",
        "Deb_feat1 = []\n",
        "\n",
        "for i in debussy_files[:10]:\n",
        "  fp = i\n",
        "  streamScore = midi.translate.midiFilePathToStream(fp)\n",
        "  feat = getFeaturesOne(streamScore)\n",
        "  Deb_feat1.append(feat.vector) #, Feat2, Feat3 = getFeaturesOne(streamScore)"
      ],
      "metadata": {
        "id": "CVoxr1l_qWcj"
      },
      "execution_count": null,
      "outputs": []
    },
    {
      "cell_type": "code",
      "source": [
        "#it took 2 minutes to run this on 3 files :(\n",
        "\n",
        "Rach_feat1 = []\n",
        "\n",
        "for i in rachman_files[:10]:\n",
        "  fp = i\n",
        "  streamScore = midi.translate.midiFilePathToStream(fp)\n",
        "  feat = getFeaturesOne(streamScore)\n",
        "  Rach_feat1.append(feat.vector) #, Feat2, Feat3 = getFeaturesOne(streamScore)"
      ],
      "metadata": {
        "id": "a91fab3GgbLb"
      },
      "execution_count": null,
      "outputs": []
    },
    {
      "cell_type": "code",
      "source": [
        "Deb_feat1 = np.array(Deb_feat1)\n",
        "Rach_feat1 = np.array(Rach_feat1)"
      ],
      "metadata": {
        "id": "J7BWKfP4k_x9"
      },
      "execution_count": null,
      "outputs": []
    },
    {
      "cell_type": "code",
      "source": [
        "Deb_feat1 = Deb_feat1.flatten()\n",
        "Rach_feat1 = Rach_feat1.flatten()"
      ],
      "metadata": {
        "id": "pLgmlElclWca"
      },
      "execution_count": null,
      "outputs": []
    },
    {
      "cell_type": "code",
      "source": [
        "nbins = 15\n",
        "\n",
        "plt.hist(Deb_feat1, alpha = 0.5, label = \"Debussy\", bins = nbins)\n",
        "plt.hist(Rach_feat1, alpha = 0.5, label = \"Rachmaninoff\", bins = nbins)\n",
        "plt.legend()\n",
        "plt.show()"
      ],
      "metadata": {
        "colab": {
          "base_uri": "https://localhost:8080/",
          "height": 265
        },
        "id": "cBHaG0pRZS26",
        "outputId": "81321e9c-d41c-4e5d-8567-d06ef84c9edf"
      },
      "execution_count": null,
      "outputs": [
        {
          "output_type": "display_data",
          "data": {
            "text/plain": [
              "<Figure size 432x288 with 1 Axes>"
            ],
            "image/png": "[encoded data removed]"
          },
          "metadata": {
            "image/png": {
              "width": 372,
              "height": 248
            },
            "needs_background": "light"
          }
        }
      ]
    },
    {
      "cell_type": "code",
      "source": [
        "def getFeaturesTwo(song):\n",
        "\n",
        "  fe2 = features.jSymbolic.AverageMelodicIntervalFeature(song)\n",
        "  f2 = fe2.extract()\n",
        "\n",
        "  #fe3 = features.jSymbolic.AverageNoteDurationFeature(song)\n",
        "  #f3 = fe3.extract()\n",
        "\n",
        "  return f2 #, f3"
      ],
      "metadata": {
        "id": "Uoec_vhLHKzp"
      },
      "execution_count": null,
      "outputs": []
    },
    {
      "cell_type": "code",
      "source": [
        "#it took 2 minutes to run this on 3 files, 7 min to run 10 files :(\n",
        "\n",
        "Deb_feat2 = []\n",
        "\n",
        "for i in debussy_files[:10]:\n",
        "  fp = i\n",
        "  streamScore = midi.translate.midiFilePathToStream(fp)\n",
        "  feat = getFeaturesTwo(streamScore)\n",
        "  Deb_feat2.append(feat.vector) #, Feat2, Feat3 = getFeaturesOne(streamScore)\n",
        "\n",
        "\n",
        "  #it took 2 minutes to run this on 3 files :(\n",
        "\n",
        "Rach_feat2 = []\n",
        "\n",
        "for i in rachman_files[:10]:\n",
        "  fp = i\n",
        "  streamScore = midi.translate.midiFilePathToStream(fp)\n",
        "  feat = getFeaturesTwo(streamScore)\n",
        "  Rach_feat2.append(feat.vector) #, Feat2, Feat3 = getFeaturesOne(streamScore)"
      ],
      "metadata": {
        "id": "b6awbFwEHR1D"
      },
      "execution_count": null,
      "outputs": []
    },
    {
      "cell_type": "code",
      "source": [
        "Deb_feat2 = np.array(Deb_feat2)\n",
        "Rach_feat2 = np.array(Rach_feat2)\n",
        "\n",
        "Deb_feat2 = Deb_feat2.flatten()\n",
        "Rach_feat2 = Rach_feat2.flatten()"
      ],
      "metadata": {
        "id": "vtFfSkIkHVVo"
      },
      "execution_count": null,
      "outputs": []
    },
    {
      "cell_type": "code",
      "source": [
        "nbins = 6\n",
        "\n",
        "plt.hist(Deb_feat2, alpha = 0.5, label = \"Debussy\", bins = nbins)\n",
        "plt.hist(Rach_feat2, alpha = 0.5, label = \"Rachmaninoff\", bins = nbins)\n",
        "plt.legend()\n",
        "plt.show()"
      ],
      "metadata": {
        "colab": {
          "base_uri": "https://localhost:8080/",
          "height": 265
        },
        "id": "DwHe2-R-LH7g",
        "outputId": "bc7eab78-4131-4fba-d9cd-e8b1e2fd460f"
      },
      "execution_count": null,
      "outputs": [
        {
          "output_type": "display_data",
          "data": {
            "text/plain": [
              "<Figure size 432x288 with 1 Axes>"
            ],
            "image/png": "[encoded data removed]"
          },
          "metadata": {
            "image/png": {
              "width": 372,
              "height": 248
            },
            "needs_background": "light"
          }
        }
      ]
    },
    {
      "cell_type": "code",
      "source": [
        "def getFeaturesThree(song):\n",
        "  fe3 = features.jSymbolic.AverageNoteDurationFeature(song)\n",
        "  f3 = fe3.extract()\n",
        "\n",
        "  return f3"
      ],
      "metadata": {
        "id": "4ws6GjyQL4tu"
      },
      "execution_count": null,
      "outputs": []
    },
    {
      "cell_type": "code",
      "source": [
        "#it took 2 minutes to run this on 3 files, 7 min to run 10 files :(\n",
        "\n",
        "Deb_feat3 = []\n",
        "\n",
        "for i in debussy_files:\n",
        "  fp = i\n",
        "  streamScore = midi.translate.midiFilePathToStream(fp)\n",
        "  feat = getFeaturesTwo(streamScore)\n",
        "  Deb_feat3.append(feat.vector) #, Feat2, Feat3 = getFeaturesOne(streamScore)\n",
        "\n",
        "\n",
        "  #it took 2 minutes to run this on 3 files :(\n",
        "\n",
        "Rach_feat3 = []\n",
        "\n",
        "for i in rachman_files[:45]:\n",
        "  fp = i\n",
        "  streamScore = midi.translate.midiFilePathToStream(fp)\n",
        "  feat = getFeaturesTwo(streamScore)\n",
        "  Rach_feat3.append(feat.vector) #, Feat2, Feat3 = getFeaturesOne(streamScore)"
      ],
      "metadata": {
        "id": "3PDHxffAoNrh"
      },
      "execution_count": null,
      "outputs": []
    },
    {
      "cell_type": "code",
      "source": [
        "Deb_feat3 = np.array(Deb_feat3)\n",
        "Rach_feat3 = np.array(Rach_feat3)\n",
        "\n",
        "Deb_feat3 = Deb_feat3.flatten()\n",
        "Rach_feat3 = Rach_feat3.flatten()"
      ],
      "metadata": {
        "id": "TW-WCuIua-aV"
      },
      "execution_count": null,
      "outputs": []
    },
    {
      "cell_type": "code",
      "source": [
        "nbins = 20\n",
        "\n",
        "plt.hist(Deb_feat3, alpha = 0.5, label = \"Debussy\", bins = nbins)\n",
        "plt.hist(Rach_feat3, alpha = 0.5, label = \"Rachmaninoff\", bins = nbins)\n",
        "plt.legend()\n",
        "plt.show()"
      ],
      "metadata": {
        "colab": {
          "base_uri": "https://localhost:8080/",
          "height": 265
        },
        "id": "P_chC9FcbEvP",
        "outputId": "c16d4181-30f4-4343-8abe-c5a766c4d103"
      },
      "execution_count": null,
      "outputs": [
        {
          "output_type": "display_data",
          "data": {
            "text/plain": [
              "<Figure size 432x288 with 1 Axes>"
            ],
            "image/png": "[encoded data removed]"
          },
          "metadata": {
            "image/png": {
              "width": 362,
              "height": 248
            },
            "needs_background": "light"
          }
        }
      ]
    },
    {
      "cell_type": "markdown",
      "source": [
        "# Features to try\n",
        "* Amount of arpeggiation\n",
        "\n",
        "* Average melodic interval\n",
        "\n",
        "* Average note duration\n",
        "\n",
        "* Average time between attacks\n",
        "\n",
        "* Chromatic motion\n",
        "\n",
        "* Direction of motion (like Josh said)\n",
        "\n",
        "* Distance between most common melodic intervals\n",
        "\n",
        "* Duration of melodic arcs\n",
        "\n",
        "* Maximum note duration\n",
        "\n",
        "* Minimum note duration\n",
        "\n",
        "* Most common melodic interval\n",
        "\n",
        "* Most common melodic interval prevalence\n",
        "\n",
        "* Most common pitch class\n",
        "\n",
        "* Most common pitch class prevalence\n",
        "\n",
        "* Most common pitch\n",
        "\n",
        "* Most common pitch prevalence\n",
        "\n",
        "* Note density\n",
        "\n",
        "* Number of common melodic intervals\n",
        "\n",
        "* Pitch class distribution\n",
        "\n",
        "* Pitch class variety\n",
        "\n",
        "* Pitch variety\n",
        "\n",
        "* Rhythmic variability\n",
        "\n",
        "* Size of melodic arcs"
      ],
      "metadata": {
        "id": "jvKTowMdn57M"
      }
    },
    {
      "cell_type": "code",
      "source": [
        ""
      ],
      "metadata": {
        "id": "L22muoKTilDy"
      },
      "execution_count": null,
      "outputs": []
    }
  ]
}