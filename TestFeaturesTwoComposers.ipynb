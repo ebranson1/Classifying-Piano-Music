{
  "nbformat": 4,
  "nbformat_minor": 0,
  "metadata": {
    "colab": {
      "name": "TestFeaturesTwoComposers.ipynb",
      "provenance": []
    },
    "kernelspec": {
      "name": "python3",
      "display_name": "Python 3"
    },
    "language_info": {
      "name": "python"
    }
  },
  "cells": [
    {
      "cell_type": "markdown",
      "source": [
        "##Only run this once\n",
        "\n",
        "get libraries, install mido, mount drive"
      ],
      "metadata": {
        "id": "DL4bzu5LZqI1"
      }
    },
    {
      "cell_type": "code",
      "execution_count": null,
      "metadata": {
        "colab": {
          "base_uri": "https://localhost:8080/"
        },
        "id": "L7Uhge95XRi6",
        "outputId": "6eaa9f60-eaee-496d-811f-6dc5cef45258"
      },
      "outputs": [
        {
          "output_type": "stream",
          "name": "stdout",
          "text": [
            "Mounted at /content/drive\n"
          ]
        }
      ],
      "source": [
        "from google.colab import drive\n",
        "drive.mount('/content/drive')"
      ]
    },
    {
      "cell_type": "code",
      "source": [
        "pip install mido"
      ],
      "metadata": {
        "colab": {
          "base_uri": "https://localhost:8080/"
        },
        "id": "MW-vkdT_YNBe",
        "outputId": "0bb0212e-67c7-48e0-d8a6-58cfaa2ff14e"
      },
      "execution_count": null,
      "outputs": [
        {
          "output_type": "stream",
          "name": "stdout",
          "text": [
            "Collecting mido\n",
            "  Downloading mido-1.2.10-py2.py3-none-any.whl (51 kB)\n",
            "\u001b[?25l\r\u001b[K     |██████▍                         | 10 kB 26.4 MB/s eta 0:00:01\r\u001b[K     |████████████▉                   | 20 kB 34.1 MB/s eta 0:00:01\r\u001b[K     |███████████████████▎            | 30 kB 14.7 MB/s eta 0:00:01\r\u001b[K     |█████████████████████████▋      | 40 kB 7.2 MB/s eta 0:00:01\r\u001b[K     |████████████████████████████████| 51 kB 4.5 MB/s \n",
            "\u001b[?25hInstalling collected packages: mido\n",
            "Successfully installed mido-1.2.10\n"
          ]
        }
      ]
    },
    {
      "cell_type": "code",
      "source": [
        "import mido\n",
        "from mido import MidiFile\n",
        "import os\n",
        "import glob\n",
        "\n",
        "import numpy as np\n",
        "import pandas as pd"
      ],
      "metadata": {
        "id": "N1MAiIP8YP_J"
      },
      "execution_count": null,
      "outputs": []
    },
    {
      "cell_type": "markdown",
      "source": [
        "##Set Up Data Format\n"
      ],
      "metadata": {
        "id": "ir6JL5bDV2Em"
      }
    },
    {
      "cell_type": "code",
      "source": [
        "def get_alpha_format(file_path):\n",
        "  mid = mido.MidiFile(file_path)\n",
        "  mididict = []\n",
        "  alpha = []\n",
        "\n",
        "  # Put all note on/off in midinote as dictionary.\n",
        "  for i in mid:\n",
        "      if i.type == 'note_on' or i.type == 'note_off' or i.type == 'time_signature':\n",
        "          mididict.append(i.dict())\n",
        "  # change time values from delta to relative time.\n",
        "  mem1=0\n",
        "  for i in mididict:\n",
        "      time = i['time'] + mem1\n",
        "      i['time'] = time\n",
        "      mem1 = i['time']\n",
        "  # make every note_on with 0 velocity note_off\n",
        "      if i['type'] == 'note_on' and i['velocity'] == 0:\n",
        "          i['type'] = 'note_off'\n",
        "  # put note, starttime, stoptime, as nested list in a list. # format is [type, note, time, velocity]\n",
        "      mem2=[]\n",
        "      if i['type'] == 'note_on' or i['type'] == 'note_off':\n",
        "          mem2.append(i['type'])\n",
        "          mem2.append(i['note'])\n",
        "          mem2.append(i['time'])\n",
        "          mem2.append(i['velocity'])\n",
        "          alpha.append(mem2)\n",
        "  \n",
        "  return alpha"
      ],
      "metadata": {
        "id": "GkufP88Gdv57"
      },
      "execution_count": null,
      "outputs": []
    },
    {
      "cell_type": "markdown",
      "source": [
        "##Grab file paths\n",
        "\n",
        "Here, the \"folder_path\" that I am using points to where I have maestro saved on *my* drive; ya'll will have to replace it with the relevant path for you.\n",
        "\n",
        "The **only** thing that will need to be altered is \"folder_path\"; leave all the other paths as-is"
      ],
      "metadata": {
        "id": "sYpCJVW8Z0zu"
      }
    },
    {
      "cell_type": "code",
      "source": [
        "#grab the folder paths for each year of the competition\n",
        "folder_path = r'[FILE PATH TO MAESTRO DATASET]'\n",
        "\n",
        "years = ['2018', '2017', '2015', '2014', '2013', '2011', '2009', '2008', '2006', '2004']\n",
        "year_paths = []\n",
        "#music_paths = np.zeros((len(year_paths), ))\n",
        "\n",
        "for i in range(len(years)):\n",
        "  year_paths.append(folder_path + '\\\\' + str(years[i]))"
      ],
      "metadata": {
        "id": "l7gm8F2wYYes"
      },
      "execution_count": null,
      "outputs": []
    },
    {
      "cell_type": "code",
      "source": [
        "#for a given year, grab all of the midi file paths within it\n",
        "\n",
        "year_path = r'[FILE PATH TO A YEAR IN MAESTRO DATASET]' #replace w/ year_paths[i]\n",
        "files = os.listdir(year_path) \n",
        "music_paths = []\n",
        "\n",
        "for i in range(len(files)):\n",
        "    music_paths.append(year_path + '/' + str(files[i]))"
      ],
      "metadata": {
        "id": "eOVKLUHicAT4"
      },
      "execution_count": null,
      "outputs": []
    },
    {
      "cell_type": "markdown",
      "source": [
        "##Define functions for extracting each feature"
      ],
      "metadata": {
        "id": "bWA2nlv1HXwW"
      }
    },
    {
      "cell_type": "code",
      "source": [
        "# Find the range of \"notes at a time\" for the whole song\n",
        "\n",
        "def findMaxNotes(song):\n",
        "  maxNotes = 0\n",
        "  count = 0\n",
        "  for i in song:\n",
        "    if i[0] == 'note_on':\n",
        "      count+=1\n",
        "    else:\n",
        "      count-=1\n",
        "  \n",
        "    if count > maxNotes:\n",
        "      maxNotes = count  \n",
        "  return (maxNotes)"
      ],
      "metadata": {
        "id": "tfEMMpLBYOS8"
      },
      "execution_count": null,
      "outputs": []
    },
    {
      "cell_type": "code",
      "source": [
        "# This will find the average \"distance\" (number of notes) between\n",
        "# one note and the next\n",
        "\n",
        "def findAvgDist(song):\n",
        "  note = song[0][1]\n",
        "  distanceSum = 0\n",
        "  numNoteOn = 0\n",
        "\n",
        "  for i in song:\n",
        "    if i[0] == 'note_on':\n",
        "      numNoteOn += 1\n",
        "      distanceSum += np.abs(i[1] - note)\n",
        "      note = i[1]\n",
        "\n",
        "  return distanceSum/numNoteOn"
      ],
      "metadata": {
        "id": "qaRz2iR1YUkI"
      },
      "execution_count": null,
      "outputs": []
    },
    {
      "cell_type": "code",
      "source": [
        "# Find the average difference between note_on events\n",
        "\n",
        "def findAvgTime(song):\n",
        "  time = song[0][2]\n",
        "  timeDiffSum = 0\n",
        "  numNoteOn = 0\n",
        "\n",
        "  for i in song:\n",
        "    if i[0] == 'note_on':\n",
        "      numNoteOn += 1\n",
        "      timeDiffSum += np.abs(i[2] - time)\n",
        "      time = i[2]\n",
        "\n",
        "  return timeDiffSum/numNoteOn"
      ],
      "metadata": {
        "id": "Zb0yVE1FYrQt"
      },
      "execution_count": null,
      "outputs": []
    },
    {
      "cell_type": "code",
      "source": [
        "# Find the range of velocity\n",
        "\n",
        "def findVelRange(song):\n",
        "  velocities = []\n",
        "\n",
        "  for i in song:\n",
        "    velocities.append(i[3])\n",
        "\n",
        "  return max(velocities)"
      ],
      "metadata": {
        "id": "W8zwNEfxY6WA"
      },
      "execution_count": null,
      "outputs": []
    },
    {
      "cell_type": "code",
      "source": [
        "# Find the average velocity\n",
        "\n",
        "def findVelAvg(song):\n",
        "  numNoteOn = 0\n",
        "  velocitySum = 0\n",
        "\n",
        "  for i in song:\n",
        "    if i[0] == 'note_on':\n",
        "      numNoteOn += 1\n",
        "      velocitySum += i[3]\n",
        "\n",
        "  return velocitySum/numNoteOn"
      ],
      "metadata": {
        "id": "QBRhZgE1ZGjk"
      },
      "execution_count": null,
      "outputs": []
    },
    {
      "cell_type": "markdown",
      "source": [
        "A lot of these have the same \"for i in song\" loop -- instead of calling a bunch of functions that run that same loop, should probably merge functions"
      ],
      "metadata": {
        "id": "aR3EH92Uaxl7"
      }
    },
    {
      "cell_type": "code",
      "source": [
        "# Here's all the functions put together in a way that's much\n",
        "# less readable but hopefully more efficient\n",
        "\n",
        "def getAlphaFeatures(song):\n",
        "  #max notes\n",
        "  maxNotes = 0\n",
        "  maxNotesCount = 0\n",
        "  distanceSum = 0\n",
        "  numNoteOn = 0\n",
        "\n",
        "  #avg distance\n",
        "  note = song[0][1]\n",
        "\n",
        "  #avg time difference\n",
        "  time = song[0][2]\n",
        "  timeDiffSum = 0\n",
        "\n",
        "  #maxVelocity\n",
        "  maxVelocity = 0\n",
        "\n",
        "  #avgVelocity\n",
        "  velocitySum = 0\n",
        "\n",
        "  for i in song:\n",
        "\n",
        "    if i[0] == 'note_on':\n",
        "      #find max notes\n",
        "      maxNotesCount+=1\n",
        "\n",
        "      #find average distance\n",
        "      numNoteOn += 1\n",
        "      distanceSum += np.abs(i[1] - note)\n",
        "      note = i[1]\n",
        "\n",
        "      #find average time difference\n",
        "      timeDiffSum += np.abs(i[2] - time)\n",
        "      time = i[2]\n",
        "\n",
        "      #find average velocity\n",
        "      velocitySum += i[3]\n",
        "\n",
        "    else:\n",
        "      maxNotesCount-=1\n",
        "  \n",
        "    if maxNotesCount > maxNotes:\n",
        "      maxNotes = maxNotesCount  \n",
        "\n",
        "    #find the max velocity\n",
        "    if i[3] > maxVelocity:\n",
        "      maxVelocity = i[3]\n",
        "\n",
        "  return (maxNotes), distanceSum/numNoteOn, timeDiffSum/numNoteOn, maxVelocity, velocitySum/numNoteOn"
      ],
      "metadata": {
        "id": "ZMDXm_MPdL7K"
      },
      "execution_count": null,
      "outputs": []
    },
    {
      "cell_type": "markdown",
      "source": [
        "##Define a function that grabs all of the features from a single file"
      ],
      "metadata": {
        "id": "g83DsCdsccY2"
      }
    },
    {
      "cell_type": "code",
      "source": [
        "def single_file(file_path):\n",
        "  alpha = get_alpha_format(file_path)\n",
        "  #beta = get_beta_format(alpha)\n",
        "\n",
        "  features = []\n",
        "  # Features are in order: [maxNotes, avgDist, avgTime, maxVel, avgVel]\n",
        "\n",
        "  for i in getAlphaFeatures(alpha):\n",
        "    features.append(i)\n",
        "\n",
        "  return features\n"
      ],
      "metadata": {
        "id": "2T971ijEcaTH"
      },
      "execution_count": null,
      "outputs": []
    },
    {
      "cell_type": "markdown",
      "source": [
        "# Get a sample of Debussy and Rachmaninoff"
      ],
      "metadata": {
        "id": "-EHAg44AAUW7"
      }
    },
    {
      "cell_type": "code",
      "source": [
        "df3 = pd.read_json(\"[FILE PATH TO MAESTRO JSON FILE]\")"
      ],
      "metadata": {
        "id": "xatNKJYzAWq0"
      },
      "execution_count": null,
      "outputs": []
    },
    {
      "cell_type": "code",
      "source": [
        "debussy_songs = []\n",
        "rachman_songs = []\n",
        "\n",
        "for i in range(df3.shape[0]): \n",
        "  if df3['canonical_composer'][i] == \"Claude Debussy\":\n",
        "    debussy_songs.append(df3['midi_filename'][i])\n",
        "\n",
        "for i in range(df3.shape[0]): \n",
        "  if df3['canonical_composer'][i] == \"Sergei Rachmaninoff\":\n",
        "    rachman_songs.append(df3['midi_filename'][i])"
      ],
      "metadata": {
        "id": "tZ5pvPp0AhN0"
      },
      "execution_count": null,
      "outputs": []
    },
    {
      "cell_type": "code",
      "source": [
        "path_prefix = '[FILE PATH TO MAESTRO DATASET]'\n",
        "debussy_files = []\n",
        "rachman_files = []\n",
        "\n",
        "for i in range(len(debussy_songs)):\n",
        "  debussy_files.append(path_prefix + debussy_songs[i])\n",
        "\n",
        "for i in range(len(rachman_songs)):\n",
        "  rachman_files.append(path_prefix + rachman_songs[i])"
      ],
      "metadata": {
        "id": "PMJsCM0KAqFx"
      },
      "execution_count": null,
      "outputs": []
    },
    {
      "cell_type": "markdown",
      "source": [
        "# Get features for those songs"
      ],
      "metadata": {
        "id": "SMEDAl0tBbBD"
      }
    },
    {
      "cell_type": "code",
      "source": [
        "#This took 1 min to run\n",
        "\n",
        "debussy_features = []\n",
        "\n",
        "for i in debussy_files:\n",
        "  debussy_features.append(single_file(i))"
      ],
      "metadata": {
        "id": "ljb2vlsPBPUU"
      },
      "execution_count": null,
      "outputs": []
    },
    {
      "cell_type": "code",
      "source": [
        "rachman_features = []\n",
        "\n",
        "for i in rachman_files:\n",
        "  rachman_features.append(single_file(i))"
      ],
      "metadata": {
        "id": "6ZqG_beEELDY"
      },
      "execution_count": null,
      "outputs": []
    },
    {
      "cell_type": "code",
      "source": [
        "# couldn't just grab columns with lists, need to make them arrays\n",
        "debussy_features = np.array(debussy_features)\n",
        "rachman_features = np.array(rachman_features)"
      ],
      "metadata": {
        "id": "zZJUfxUAESB0"
      },
      "execution_count": null,
      "outputs": []
    },
    {
      "cell_type": "markdown",
      "source": [
        "#Plot those features"
      ],
      "metadata": {
        "id": "aiNXrI3xFrFS"
      }
    },
    {
      "cell_type": "code",
      "source": [
        "import matplotlib.pyplot as plt"
      ],
      "metadata": {
        "id": "6mPoacc4Ft6I"
      },
      "execution_count": null,
      "outputs": []
    },
    {
      "cell_type": "code",
      "source": [
        "plt.hist(debussy_features[:,0], alpha = 0.5, label = \"Debussy\")\n",
        "plt.hist(rachman_features[:,0], alpha = 0.5, label = \"Rachmaninoff\")\n",
        "plt.title(\"Max notes played at once\")\n",
        "plt.legend()\n",
        "plt.show()"
      ],
      "metadata": {
        "colab": {
          "base_uri": "https://localhost:8080/",
          "height": 281
        },
        "id": "mhrL_l0nErCD",
        "outputId": "c1dfa182-54db-434b-ec22-677ebb44d5ec"
      },
      "execution_count": null,
      "outputs": [
        {
          "output_type": "display_data",
          "data": {
            "text/plain": [
              "<Figure size 432x288 with 1 Axes>"
            ],
            "image/png": "[encoded data removed]"
          },
          "metadata": {
            "needs_background": "light"
          }
        }
      ]
    },
    {
      "cell_type": "code",
      "source": [
        "plt.hist(debussy_features[:,1], alpha = 0.5, label = \"Debussy\")\n",
        "plt.hist(rachman_features[:,1], alpha = 0.5, label = \"Rachmaninoff\")\n",
        "plt.title(\"Average 'distance' between notes\")\n",
        "plt.legend()\n",
        "plt.show()"
      ],
      "metadata": {
        "colab": {
          "base_uri": "https://localhost:8080/",
          "height": 281
        },
        "id": "8Dq6IS3RF2Mr",
        "outputId": "5532ae48-fef2-4112-fdbc-55d0affc3153"
      },
      "execution_count": null,
      "outputs": [
        {
          "output_type": "display_data",
          "data": {
            "text/plain": [
              "<Figure size 432x288 with 1 Axes>"
            ],
            "image/png": "[encoded data removed]"
          },
          "metadata": {
            "needs_background": "light"
          }
        }
      ]
    },
    {
      "cell_type": "code",
      "source": [
        "plt.hist(debussy_features[:,2], alpha = 0.5, label = \"Debussy\")\n",
        "plt.hist(rachman_features[:,2], alpha = 0.5, label = \"Rachmaninoff\")\n",
        "plt.title(\"Average time between notes\")\n",
        "plt.legend()\n",
        "plt.show()"
      ],
      "metadata": {
        "colab": {
          "base_uri": "https://localhost:8080/",
          "height": 281
        },
        "id": "Wy9eyeHtGTor",
        "outputId": "b3a487dc-be7a-46dc-d217-e5f03ea72ddc"
      },
      "execution_count": null,
      "outputs": [
        {
          "output_type": "display_data",
          "data": {
            "text/plain": [
              "<Figure size 432x288 with 1 Axes>"
            ],
            "image/png": "[encoded data removed]"
          },
          "metadata": {
            "needs_background": "light"
          }
        }
      ]
    },
    {
      "cell_type": "code",
      "source": [
        "plt.hist(debussy_features[:,3], alpha = 0.5, label = \"Debussy\")\n",
        "plt.hist(rachman_features[:,3], alpha = 0.5, label = \"Rachmaninoff\")\n",
        "plt.title(\"Maximum velocity\")\n",
        "plt.legend()\n",
        "plt.show()"
      ],
      "metadata": {
        "colab": {
          "base_uri": "https://localhost:8080/",
          "height": 281
        },
        "id": "UbgYx77hGcP3",
        "outputId": "5f2d898e-7b61-4774-d156-44d8cf9fd068"
      },
      "execution_count": null,
      "outputs": [
        {
          "output_type": "display_data",
          "data": {
            "text/plain": [
              "<Figure size 432x288 with 1 Axes>"
            ],
            "image/png": "[encoded data removed]"
          },
          "metadata": {
            "needs_background": "light"
          }
        }
      ]
    },
    {
      "cell_type": "code",
      "source": [
        "plt.hist(debussy_features[:,4], alpha = 0.5, label = \"Debussy\")\n",
        "plt.hist(rachman_features[:,4], alpha = 0.5, label = \"Rachmaninoff\")\n",
        "plt.title(\"Average velocity\")\n",
        "plt.legend()\n",
        "plt.show()"
      ],
      "metadata": {
        "colab": {
          "base_uri": "https://localhost:8080/",
          "height": 281
        },
        "id": "NPSvKi5rGhlH",
        "outputId": "bb894090-dffb-4e32-e28e-8ff3f3f87072"
      },
      "execution_count": null,
      "outputs": [
        {
          "output_type": "display_data",
          "data": {
            "text/plain": [
              "<Figure size 432x288 with 1 Axes>"
            ],
            "image/png": "[encoded data removed]"
          },
          "metadata": {
            "needs_background": "light"
          }
        }
      ]
    },
    {
      "cell_type": "markdown",
      "source": [
        "# Try it with very similar composers"
      ],
      "metadata": {
        "id": "kyn0j9gwIhhu"
      }
    },
    {
      "cell_type": "code",
      "source": [
        "haydn_songs = []\n",
        "mozart_songs = []\n",
        "\n",
        "for i in range(df3.shape[0]): \n",
        "  if df3['canonical_composer'][i] == \"Joseph Haydn\":\n",
        "    haydn_songs.append(df3['midi_filename'][i])\n",
        "\n",
        "for i in range(df3.shape[0]): \n",
        "  if df3['canonical_composer'][i] == \"Wolfgang Amadeus Mozart\":\n",
        "    mozart_songs.append(df3['midi_filename'][i])"
      ],
      "metadata": {
        "id": "rqTO44IYInDM"
      },
      "execution_count": null,
      "outputs": []
    },
    {
      "cell_type": "code",
      "source": [
        "path_prefix = 'FILE PATH TO MAESTRO DATASET'\n",
        "haydn_files = []\n",
        "mozart_files = []\n",
        "\n",
        "for i in range(len(haydn_songs)):\n",
        "  haydn_files.append(path_prefix + haydn_songs[i])\n",
        "\n",
        "for i in range(len(mozart_songs)):\n",
        "  mozart_files.append(path_prefix + mozart_songs[i])"
      ],
      "metadata": {
        "id": "UycMBVFMInDN"
      },
      "execution_count": null,
      "outputs": []
    },
    {
      "cell_type": "markdown",
      "source": [
        "# Get features for those songs"
      ],
      "metadata": {
        "id": "8zntUi13InDR"
      }
    },
    {
      "cell_type": "code",
      "source": [
        "#This took 1 min to run\n",
        "\n",
        "haydn_features = []\n",
        "\n",
        "for i in haydn_files:\n",
        "  haydn_features.append(single_file(i))"
      ],
      "metadata": {
        "id": "YpzAmR5gInDR"
      },
      "execution_count": null,
      "outputs": []
    },
    {
      "cell_type": "code",
      "source": [
        "mozart_features = []\n",
        "\n",
        "for i in mozart_files:\n",
        "  mozart_features.append(single_file(i))"
      ],
      "metadata": {
        "id": "x08O-qLoInDS"
      },
      "execution_count": null,
      "outputs": []
    },
    {
      "cell_type": "code",
      "source": [
        "# couldn't just grab columns with lists, need to make them arrays\n",
        "haydn_features = np.array(haydn_features)\n",
        "mozart_features = np.array(mozart_features)"
      ],
      "metadata": {
        "id": "gApv2cjvInDT"
      },
      "execution_count": null,
      "outputs": []
    },
    {
      "cell_type": "markdown",
      "source": [
        "#Plot them to compare"
      ],
      "metadata": {
        "id": "jUKQpvhOOzpx"
      }
    },
    {
      "cell_type": "code",
      "source": [
        "fig, axs = plt.subplots(1, 5,figsize=(15, 3), sharey = True, constrained_layout = True)\n",
        "\n",
        "plotTitles = [\"Max notes played at once\", \"Average 'distance' between notes\", \"Average time between notes\",\"Maximum velocity\",\"Average velocity\"]\n",
        "\n",
        "for i in range(0,5):\n",
        "  axs[i].hist(debussy_features[:,i], alpha = 0.5)\n",
        "  axs[i].hist(rachman_features[:,i], alpha = 0.5)\n",
        "  axs[i].set_title(plotTitles[i])\n",
        "\n",
        "fig.suptitle('Debussy vs Rachmaninoff', fontsize = 16)\n",
        "plt.show()"
      ],
      "metadata": {
        "colab": {
          "base_uri": "https://localhost:8080/",
          "height": 241
        },
        "id": "r6jM3zUzJQQm",
        "outputId": "ae687624-4423-47ed-a85a-cfa070d7817c"
      },
      "execution_count": null,
      "outputs": [
        {
          "output_type": "display_data",
          "data": {
            "text/plain": [
              "<Figure size 1080x216 with 5 Axes>"
            ],
            "image/png": "[encoded data removed]"
          },
          "metadata": {
            "needs_background": "light"
          }
        }
      ]
    },
    {
      "cell_type": "code",
      "source": [
        "fig, axs = plt.subplots(1, 5,figsize=(15, 3), sharey = True, constrained_layout = True)\n",
        "\n",
        "plotTitles = [\"Max notes played at once\", \"Average 'distance' between notes\", \"Average time between notes\",\"Maximum velocity\",\"Average velocity\"]\n",
        "\n",
        "for i in range(0,5):\n",
        "  axs[i].hist(haydn_features[:,i], alpha = 0.5)\n",
        "  axs[i].hist(mozart_features[:,i], alpha = 0.5)\n",
        "  axs[i].set_title(plotTitles[i])\n",
        "\n",
        "fig.suptitle('Haydn vs Mozart', fontsize = 16)\n",
        "plt.show()"
      ],
      "metadata": {
        "colab": {
          "base_uri": "https://localhost:8080/",
          "height": 241
        },
        "id": "mOvEopHrKU3-",
        "outputId": "aa309dbd-eb71-48d8-9f9f-338162ebd738"
      },
      "execution_count": null,
      "outputs": [
        {
          "output_type": "display_data",
          "data": {
            "text/plain": [
              "<Figure size 1080x216 with 5 Axes>"
            ],
            "image/png": "[encoded data removed]"
          },
          "metadata": {
            "needs_background": "light"
          }
        }
      ]
    },
    {
      "cell_type": "code",
      "source": [
        ""
      ],
      "metadata": {
        "id": "vUvdwrfCO5nN"
      },
      "execution_count": null,
      "outputs": []
    }
  ]
}