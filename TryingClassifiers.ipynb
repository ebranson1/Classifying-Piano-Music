{
  "nbformat": 4,
  "nbformat_minor": 0,
  "metadata": {
    "colab": {
      "name": "TryingClassifiers.ipynb",
      "provenance": [],
      "collapsed_sections": []
    },
    "kernelspec": {
      "name": "python3",
      "display_name": "Python 3"
    },
    "language_info": {
      "name": "python"
    }
  },
  "cells": [
    {
      "cell_type": "markdown",
      "source": [
        "##Only run this once\n",
        "\n",
        "get libraries, install mido, mount drive"
      ],
      "metadata": {
        "id": "DL4bzu5LZqI1"
      }
    },
    {
      "cell_type": "code",
      "execution_count": 1,
      "metadata": {
        "colab": {
          "base_uri": "https://localhost:8080/"
        },
        "id": "L7Uhge95XRi6",
        "outputId": "592fd00a-c8e5-4929-85ad-2cbfbaf6eb2f"
      },
      "outputs": [
        {
          "output_type": "stream",
          "name": "stdout",
          "text": [
            "Drive already mounted at /content/drive; to attempt to forcibly remount, call drive.mount(\"/content/drive\", force_remount=True).\n"
          ]
        }
      ],
      "source": [
        "from google.colab import drive\n",
        "drive.mount('/content/drive')"
      ]
    },
    {
      "cell_type": "code",
      "source": [
        "pip install mido"
      ],
      "metadata": {
        "colab": {
          "base_uri": "https://localhost:8080/"
        },
        "id": "SfZOkcN0W6nB",
        "outputId": "c760034e-bcf7-4dca-9e41-355d752a220c"
      },
      "execution_count": 2,
      "outputs": [
        {
          "output_type": "stream",
          "name": "stdout",
          "text": [
            "Collecting mido\n",
            "  Downloading mido-1.2.10-py2.py3-none-any.whl (51 kB)\n",
            "\u001b[K     |████████████████████████████████| 51 kB 1.4 MB/s \n",
            "\u001b[?25hInstalling collected packages: mido\n",
            "Successfully installed mido-1.2.10\n"
          ]
        }
      ]
    },
    {
      "cell_type": "code",
      "source": [
        "import mido\n",
        "from mido import MidiFile\n",
        "import os\n",
        "import glob\n",
        "\n",
        "import numpy as np\n",
        "import pandas as pd"
      ],
      "metadata": {
        "id": "N1MAiIP8YP_J"
      },
      "execution_count": 3,
      "outputs": []
    },
    {
      "cell_type": "markdown",
      "source": [
        "#Load extracted features"
      ],
      "metadata": {
        "id": "ldDetSoD22Z3"
      }
    },
    {
      "cell_type": "code",
      "source": [
        "path = r'PATH TO \"better_data.csv\"'\n",
        "\n",
        "data = pd.read_csv(path)\n",
        "data.drop(columns = ['Unnamed: 0'], inplace = True)\n",
        "\n",
        "data.head()"
      ],
      "metadata": {
        "colab": {
          "base_uri": "https://localhost:8080/",
          "height": 206
        },
        "id": "gA6WY0AG24hh",
        "outputId": "3a6098e6-34dc-4528-afb0-bcf9bdff7fd7"
      },
      "execution_count": 4,
      "outputs": [
        {
          "output_type": "execute_result",
          "data": {
            "text/plain": [
              "             composer                                          file_path  \\\n",
              "0  Alexander Scriabin  /content/drive/MyDrive/Colab Notebooks/Machine...   \n",
              "1  Alexander Scriabin  /content/drive/MyDrive/Colab Notebooks/Machine...   \n",
              "2  Alexander Scriabin  /content/drive/MyDrive/Colab Notebooks/Machine...   \n",
              "3  Alexander Scriabin  /content/drive/MyDrive/Colab Notebooks/Machine...   \n",
              "4  Alexander Scriabin  /content/drive/MyDrive/Colab Notebooks/Machine...   \n",
              "\n",
              "   maxNotes    avgDist   avgTime  maxVel     avgVel  \n",
              "0         6  12.355605  0.083160     108  62.954085  \n",
              "1         6  13.592685  0.061817     121  65.008211  \n",
              "2         6  11.839422  0.131707     111  60.342821  \n",
              "3        10   6.452150  0.117520     110  58.776699  \n",
              "4         8  12.300821  0.088088     112  70.214286  "
            ],
            "text/html": [
              "\n",
              "  <div id=\"df-ac44ba70-98a8-4945-a575-545b4ecd618f\">\n",
              "    <div class=\"colab-df-container\">\n",
              "      <div>\n",
              "<style scoped>\n",
              "    .dataframe tbody tr th:only-of-type {\n",
              "        vertical-align: middle;\n",
              "    }\n",
              "\n",
              "    .dataframe tbody tr th {\n",
              "        vertical-align: top;\n",
              "    }\n",
              "\n",
              "    .dataframe thead th {\n",
              "        text-align: right;\n",
              "    }\n",
              "</style>\n",
              "<table border=\"1\" class=\"dataframe\">\n",
              "  <thead>\n",
              "    <tr style=\"text-align: right;\">\n",
              "      <th></th>\n",
              "      <th>composer</th>\n",
              "      <th>file_path</th>\n",
              "      <th>maxNotes</th>\n",
              "      <th>avgDist</th>\n",
              "      <th>avgTime</th>\n",
              "      <th>maxVel</th>\n",
              "      <th>avgVel</th>\n",
              "    </tr>\n",
              "  </thead>\n",
              "  <tbody>\n",
              "    <tr>\n",
              "      <th>0</th>\n",
              "      <td>Alexander Scriabin</td>\n",
              "      <td>/content/drive/MyDrive/Colab Notebooks/Machine...</td>\n",
              "      <td>6</td>\n",
              "      <td>12.355605</td>\n",
              "      <td>0.083160</td>\n",
              "      <td>108</td>\n",
              "      <td>62.954085</td>\n",
              "    </tr>\n",
              "    <tr>\n",
              "      <th>1</th>\n",
              "      <td>Alexander Scriabin</td>\n",
              "      <td>/content/drive/MyDrive/Colab Notebooks/Machine...</td>\n",
              "      <td>6</td>\n",
              "      <td>13.592685</td>\n",
              "      <td>0.061817</td>\n",
              "      <td>121</td>\n",
              "      <td>65.008211</td>\n",
              "    </tr>\n",
              "    <tr>\n",
              "      <th>2</th>\n",
              "      <td>Alexander Scriabin</td>\n",
              "      <td>/content/drive/MyDrive/Colab Notebooks/Machine...</td>\n",
              "      <td>6</td>\n",
              "      <td>11.839422</td>\n",
              "      <td>0.131707</td>\n",
              "      <td>111</td>\n",
              "      <td>60.342821</td>\n",
              "    </tr>\n",
              "    <tr>\n",
              "      <th>3</th>\n",
              "      <td>Alexander Scriabin</td>\n",
              "      <td>/content/drive/MyDrive/Colab Notebooks/Machine...</td>\n",
              "      <td>10</td>\n",
              "      <td>6.452150</td>\n",
              "      <td>0.117520</td>\n",
              "      <td>110</td>\n",
              "      <td>58.776699</td>\n",
              "    </tr>\n",
              "    <tr>\n",
              "      <th>4</th>\n",
              "      <td>Alexander Scriabin</td>\n",
              "      <td>/content/drive/MyDrive/Colab Notebooks/Machine...</td>\n",
              "      <td>8</td>\n",
              "      <td>12.300821</td>\n",
              "      <td>0.088088</td>\n",
              "      <td>112</td>\n",
              "      <td>70.214286</td>\n",
              "    </tr>\n",
              "  </tbody>\n",
              "</table>\n",
              "</div>\n",
              "      <button class=\"colab-df-convert\" onclick=\"convertToInteractive('df-ac44ba70-98a8-4945-a575-545b4ecd618f')\"\n",
              "              title=\"Convert this dataframe to an interactive table.\"\n",
              "              style=\"display:none;\">\n",
              "        \n",
              "  <svg xmlns=\"http://www.w3.org/2000/svg\" height=\"24px\"viewBox=\"0 0 24 24\"\n",
              "       width=\"24px\">\n",
              "    <path d=\"M0 0h24v24H0V0z\" fill=\"none\"/>\n",
              "    <path d=\"M18.56 5.44l.94 2.06.94-2.06 2.06-.94-2.06-.94-.94-2.06-.94 2.06-2.06.94zm-11 1L8.5 8.5l.94-2.06 2.06-.94-2.06-.94L8.5 2.5l-.94 2.06-2.06.94zm10 10l.94 2.06.94-2.06 2.06-.94-2.06-.94-.94-2.06-.94 2.06-2.06.94z\"/><path d=\"M17.41 7.96l-1.37-1.37c-.4-.4-.92-.59-1.43-.59-.52 0-1.04.2-1.43.59L10.3 9.45l-7.72 7.72c-.78.78-.78 2.05 0 2.83L4 21.41c.39.39.9.59 1.41.59.51 0 1.02-.2 1.41-.59l7.78-7.78 2.81-2.81c.8-.78.8-2.07 0-2.86zM5.41 20L4 18.59l7.72-7.72 1.47 1.35L5.41 20z\"/>\n",
              "  </svg>\n",
              "      </button>\n",
              "      \n",
              "  <style>\n",
              "    .colab-df-container {\n",
              "      display:flex;\n",
              "      flex-wrap:wrap;\n",
              "      gap: 12px;\n",
              "    }\n",
              "\n",
              "    .colab-df-convert {\n",
              "      background-color: #E8F0FE;\n",
              "      border: none;\n",
              "      border-radius: 50%;\n",
              "      cursor: pointer;\n",
              "      display: none;\n",
              "      fill: #1967D2;\n",
              "      height: 32px;\n",
              "      padding: 0 0 0 0;\n",
              "      width: 32px;\n",
              "    }\n",
              "\n",
              "    .colab-df-convert:hover {\n",
              "      background-color: #E2EBFA;\n",
              "      box-shadow: 0px 1px 2px rgba(60, 64, 67, 0.3), 0px 1px 3px 1px rgba(60, 64, 67, 0.15);\n",
              "      fill: #174EA6;\n",
              "    }\n",
              "\n",
              "    [theme=dark] .colab-df-convert {\n",
              "      background-color: #3B4455;\n",
              "      fill: #D2E3FC;\n",
              "    }\n",
              "\n",
              "    [theme=dark] .colab-df-convert:hover {\n",
              "      background-color: #434B5C;\n",
              "      box-shadow: 0px 1px 3px 1px rgba(0, 0, 0, 0.15);\n",
              "      filter: drop-shadow(0px 1px 2px rgba(0, 0, 0, 0.3));\n",
              "      fill: #FFFFFF;\n",
              "    }\n",
              "  </style>\n",
              "\n",
              "      <script>\n",
              "        const buttonEl =\n",
              "          document.querySelector('#df-ac44ba70-98a8-4945-a575-545b4ecd618f button.colab-df-convert');\n",
              "        buttonEl.style.display =\n",
              "          google.colab.kernel.accessAllowed ? 'block' : 'none';\n",
              "\n",
              "        async function convertToInteractive(key) {\n",
              "          const element = document.querySelector('#df-ac44ba70-98a8-4945-a575-545b4ecd618f');\n",
              "          const dataTable =\n",
              "            await google.colab.kernel.invokeFunction('convertToInteractive',\n",
              "                                                     [key], {});\n",
              "          if (!dataTable) return;\n",
              "\n",
              "          const docLinkHtml = 'Like what you see? Visit the ' +\n",
              "            '<a target=\"_blank\" href=https://colab.research.google.com/notebooks/data_table.ipynb>data table notebook</a>'\n",
              "            + ' to learn more about interactive tables.';\n",
              "          element.innerHTML = '';\n",
              "          dataTable['output_type'] = 'display_data';\n",
              "          await google.colab.output.renderOutput(dataTable, element);\n",
              "          const docLink = document.createElement('div');\n",
              "          docLink.innerHTML = docLinkHtml;\n",
              "          element.appendChild(docLink);\n",
              "        }\n",
              "      </script>\n",
              "    </div>\n",
              "  </div>\n",
              "  "
            ]
          },
          "metadata": {},
          "execution_count": 4
        }
      ]
    },
    {
      "cell_type": "markdown",
      "source": [
        "#Classifier setup"
      ],
      "metadata": {
        "id": "TGn67Ms82Ny4"
      }
    },
    {
      "cell_type": "code",
      "source": [
        "import matplotlib.pyplot as plt\n",
        "import numpy as np\n",
        "from sklearn import neighbors\n",
        "from sklearn import naive_bayes\n",
        "from sklearn.datasets import load_digits \n",
        "from sklearn import model_selection \n",
        "from sklearn.metrics import ConfusionMatrixDisplay\n",
        "from sklearn import tree\n",
        "from sklearn.tree import DecisionTreeClassifier"
      ],
      "metadata": {
        "id": "puEE7EaJSmCD"
      },
      "execution_count": 5,
      "outputs": []
    },
    {
      "cell_type": "code",
      "source": [
        "df = data\n",
        "\n",
        "df.head()"
      ],
      "metadata": {
        "colab": {
          "base_uri": "https://localhost:8080/",
          "height": 206
        },
        "id": "Oni07FutS2s3",
        "outputId": "a7c7d128-bdc0-4381-d31a-146d04def193"
      },
      "execution_count": 6,
      "outputs": [
        {
          "output_type": "execute_result",
          "data": {
            "text/plain": [
              "             composer                                          file_path  \\\n",
              "0  Alexander Scriabin  /content/drive/MyDrive/Colab Notebooks/Machine...   \n",
              "1  Alexander Scriabin  /content/drive/MyDrive/Colab Notebooks/Machine...   \n",
              "2  Alexander Scriabin  /content/drive/MyDrive/Colab Notebooks/Machine...   \n",
              "3  Alexander Scriabin  /content/drive/MyDrive/Colab Notebooks/Machine...   \n",
              "4  Alexander Scriabin  /content/drive/MyDrive/Colab Notebooks/Machine...   \n",
              "\n",
              "   maxNotes    avgDist   avgTime  maxVel     avgVel  \n",
              "0         6  12.355605  0.083160     108  62.954085  \n",
              "1         6  13.592685  0.061817     121  65.008211  \n",
              "2         6  11.839422  0.131707     111  60.342821  \n",
              "3        10   6.452150  0.117520     110  58.776699  \n",
              "4         8  12.300821  0.088088     112  70.214286  "
            ],
            "text/html": [
              "\n",
              "  <div id=\"df-71d2454c-c3fa-40a1-a0fb-5687b312ef84\">\n",
              "    <div class=\"colab-df-container\">\n",
              "      <div>\n",
              "<style scoped>\n",
              "    .dataframe tbody tr th:only-of-type {\n",
              "        vertical-align: middle;\n",
              "    }\n",
              "\n",
              "    .dataframe tbody tr th {\n",
              "        vertical-align: top;\n",
              "    }\n",
              "\n",
              "    .dataframe thead th {\n",
              "        text-align: right;\n",
              "    }\n",
              "</style>\n",
              "<table border=\"1\" class=\"dataframe\">\n",
              "  <thead>\n",
              "    <tr style=\"text-align: right;\">\n",
              "      <th></th>\n",
              "      <th>composer</th>\n",
              "      <th>file_path</th>\n",
              "      <th>maxNotes</th>\n",
              "      <th>avgDist</th>\n",
              "      <th>avgTime</th>\n",
              "      <th>maxVel</th>\n",
              "      <th>avgVel</th>\n",
              "    </tr>\n",
              "  </thead>\n",
              "  <tbody>\n",
              "    <tr>\n",
              "      <th>0</th>\n",
              "      <td>Alexander Scriabin</td>\n",
              "      <td>/content/drive/MyDrive/Colab Notebooks/Machine...</td>\n",
              "      <td>6</td>\n",
              "      <td>12.355605</td>\n",
              "      <td>0.083160</td>\n",
              "      <td>108</td>\n",
              "      <td>62.954085</td>\n",
              "    </tr>\n",
              "    <tr>\n",
              "      <th>1</th>\n",
              "      <td>Alexander Scriabin</td>\n",
              "      <td>/content/drive/MyDrive/Colab Notebooks/Machine...</td>\n",
              "      <td>6</td>\n",
              "      <td>13.592685</td>\n",
              "      <td>0.061817</td>\n",
              "      <td>121</td>\n",
              "      <td>65.008211</td>\n",
              "    </tr>\n",
              "    <tr>\n",
              "      <th>2</th>\n",
              "      <td>Alexander Scriabin</td>\n",
              "      <td>/content/drive/MyDrive/Colab Notebooks/Machine...</td>\n",
              "      <td>6</td>\n",
              "      <td>11.839422</td>\n",
              "      <td>0.131707</td>\n",
              "      <td>111</td>\n",
              "      <td>60.342821</td>\n",
              "    </tr>\n",
              "    <tr>\n",
              "      <th>3</th>\n",
              "      <td>Alexander Scriabin</td>\n",
              "      <td>/content/drive/MyDrive/Colab Notebooks/Machine...</td>\n",
              "      <td>10</td>\n",
              "      <td>6.452150</td>\n",
              "      <td>0.117520</td>\n",
              "      <td>110</td>\n",
              "      <td>58.776699</td>\n",
              "    </tr>\n",
              "    <tr>\n",
              "      <th>4</th>\n",
              "      <td>Alexander Scriabin</td>\n",
              "      <td>/content/drive/MyDrive/Colab Notebooks/Machine...</td>\n",
              "      <td>8</td>\n",
              "      <td>12.300821</td>\n",
              "      <td>0.088088</td>\n",
              "      <td>112</td>\n",
              "      <td>70.214286</td>\n",
              "    </tr>\n",
              "  </tbody>\n",
              "</table>\n",
              "</div>\n",
              "      <button class=\"colab-df-convert\" onclick=\"convertToInteractive('df-71d2454c-c3fa-40a1-a0fb-5687b312ef84')\"\n",
              "              title=\"Convert this dataframe to an interactive table.\"\n",
              "              style=\"display:none;\">\n",
              "        \n",
              "  <svg xmlns=\"http://www.w3.org/2000/svg\" height=\"24px\"viewBox=\"0 0 24 24\"\n",
              "       width=\"24px\">\n",
              "    <path d=\"M0 0h24v24H0V0z\" fill=\"none\"/>\n",
              "    <path d=\"M18.56 5.44l.94 2.06.94-2.06 2.06-.94-2.06-.94-.94-2.06-.94 2.06-2.06.94zm-11 1L8.5 8.5l.94-2.06 2.06-.94-2.06-.94L8.5 2.5l-.94 2.06-2.06.94zm10 10l.94 2.06.94-2.06 2.06-.94-2.06-.94-.94-2.06-.94 2.06-2.06.94z\"/><path d=\"M17.41 7.96l-1.37-1.37c-.4-.4-.92-.59-1.43-.59-.52 0-1.04.2-1.43.59L10.3 9.45l-7.72 7.72c-.78.78-.78 2.05 0 2.83L4 21.41c.39.39.9.59 1.41.59.51 0 1.02-.2 1.41-.59l7.78-7.78 2.81-2.81c.8-.78.8-2.07 0-2.86zM5.41 20L4 18.59l7.72-7.72 1.47 1.35L5.41 20z\"/>\n",
              "  </svg>\n",
              "      </button>\n",
              "      \n",
              "  <style>\n",
              "    .colab-df-container {\n",
              "      display:flex;\n",
              "      flex-wrap:wrap;\n",
              "      gap: 12px;\n",
              "    }\n",
              "\n",
              "    .colab-df-convert {\n",
              "      background-color: #E8F0FE;\n",
              "      border: none;\n",
              "      border-radius: 50%;\n",
              "      cursor: pointer;\n",
              "      display: none;\n",
              "      fill: #1967D2;\n",
              "      height: 32px;\n",
              "      padding: 0 0 0 0;\n",
              "      width: 32px;\n",
              "    }\n",
              "\n",
              "    .colab-df-convert:hover {\n",
              "      background-color: #E2EBFA;\n",
              "      box-shadow: 0px 1px 2px rgba(60, 64, 67, 0.3), 0px 1px 3px 1px rgba(60, 64, 67, 0.15);\n",
              "      fill: #174EA6;\n",
              "    }\n",
              "\n",
              "    [theme=dark] .colab-df-convert {\n",
              "      background-color: #3B4455;\n",
              "      fill: #D2E3FC;\n",
              "    }\n",
              "\n",
              "    [theme=dark] .colab-df-convert:hover {\n",
              "      background-color: #434B5C;\n",
              "      box-shadow: 0px 1px 3px 1px rgba(0, 0, 0, 0.15);\n",
              "      filter: drop-shadow(0px 1px 2px rgba(0, 0, 0, 0.3));\n",
              "      fill: #FFFFFF;\n",
              "    }\n",
              "  </style>\n",
              "\n",
              "      <script>\n",
              "        const buttonEl =\n",
              "          document.querySelector('#df-71d2454c-c3fa-40a1-a0fb-5687b312ef84 button.colab-df-convert');\n",
              "        buttonEl.style.display =\n",
              "          google.colab.kernel.accessAllowed ? 'block' : 'none';\n",
              "\n",
              "        async function convertToInteractive(key) {\n",
              "          const element = document.querySelector('#df-71d2454c-c3fa-40a1-a0fb-5687b312ef84');\n",
              "          const dataTable =\n",
              "            await google.colab.kernel.invokeFunction('convertToInteractive',\n",
              "                                                     [key], {});\n",
              "          if (!dataTable) return;\n",
              "\n",
              "          const docLinkHtml = 'Like what you see? Visit the ' +\n",
              "            '<a target=\"_blank\" href=https://colab.research.google.com/notebooks/data_table.ipynb>data table notebook</a>'\n",
              "            + ' to learn more about interactive tables.';\n",
              "          element.innerHTML = '';\n",
              "          dataTable['output_type'] = 'display_data';\n",
              "          await google.colab.output.renderOutput(dataTable, element);\n",
              "          const docLink = document.createElement('div');\n",
              "          docLink.innerHTML = docLinkHtml;\n",
              "          element.appendChild(docLink);\n",
              "        }\n",
              "      </script>\n",
              "    </div>\n",
              "  </div>\n",
              "  "
            ]
          },
          "metadata": {},
          "execution_count": 6
        }
      ]
    },
    {
      "cell_type": "code",
      "source": [
        "features = ['maxNotes', 'avgDist', 'avgTime', 'maxVel', 'avgVel'] # choose columns for features\n",
        "target = ['composer']"
      ],
      "metadata": {
        "id": "DmljOs9TS8kp"
      },
      "execution_count": 7,
      "outputs": []
    },
    {
      "cell_type": "code",
      "source": [
        "# Save variables\n",
        "X = df[features].values\n",
        "y = df[target].values.ravel()"
      ],
      "metadata": {
        "id": "xk4w_dmtTUWp"
      },
      "execution_count": 8,
      "outputs": []
    },
    {
      "cell_type": "code",
      "source": [
        "X_train, X_test, y_train, y_test = model_selection.train_test_split(X, y, test_size=0.2, random_state=137)"
      ],
      "metadata": {
        "id": "znRLaqqQYP64"
      },
      "execution_count": 9,
      "outputs": []
    },
    {
      "cell_type": "markdown",
      "source": [
        "#KNN"
      ],
      "metadata": {
        "id": "YeiEXNxT9b7b"
      }
    },
    {
      "cell_type": "code",
      "source": [
        "# Run this with and without random_state\n",
        "\n",
        "kLIST = np.arange(1, 20)\n",
        "best_depths = []\n",
        "\n",
        "\n",
        "train_scores = []\n",
        "test_scores = []\n",
        "cv_scores = []\n",
        "\n",
        "for k in kLIST:\n",
        "  clf = neighbors.KNeighborsClassifier(n_neighbors=k)\n",
        "  clf.fit(X_train,y_train)\n",
        "  \n",
        "  test_score = clf.score(X_test,y_test)\n",
        "  train_score = clf.score(X_train,y_train)\n",
        "  cv_score = model_selection.cross_val_score(clf,X_train,y_train).mean() #get the average score for each fold\n",
        "  \n",
        "  train_scores.append(train_score)\n",
        "  test_scores.append(test_score)\n",
        "  cv_scores.append(cv_score)  #store the 'score' for the tree with depth d\n",
        "\n",
        "kBEST = kLIST[np.argmax(cv_scores)]\n",
        "\n",
        "\n",
        "#plot our results\n",
        "plt.plot(kLIST, train_scores, 'b:',label='Training Accuracy')\n",
        "plt.plot(kLIST, test_scores, 'r:',label='Testing Accuracy')\n",
        "plt.plot(kLIST, cv_scores,'b-', label='CV Train')\n",
        "plt.legend()\n",
        "plt.xlabel('N Neighbors')\n",
        "plt.ylabel('Accuracy')\n",
        "plt.title('k Nearest Neighbor Accuracy')\n",
        "    \n",
        "\n",
        "plt.show()\n",
        "\n",
        "kBEST = kLIST[np.argmax(cv_scores)]\n",
        "print(f'Best k: {kBEST}')"
      ],
      "metadata": {
        "colab": {
          "base_uri": "https://localhost:8080/",
          "height": 313
        },
        "id": "ouWf7mhy2PDt",
        "outputId": "943a022e-1df7-4086-e714-2f7f52a77113"
      },
      "execution_count": 10,
      "outputs": [
        {
          "output_type": "display_data",
          "data": {
            "text/plain": [
              "<Figure size 432x288 with 1 Axes>"
            ],
            "image/png": "[encoded data removed]"
          },
          "metadata": {
            "needs_background": "light"
          }
        },
        {
          "output_type": "stream",
          "name": "stdout",
          "text": [
            "Best k: 15\n"
          ]
        }
      ]
    },
    {
      "cell_type": "markdown",
      "source": [
        "#Linear regressor"
      ],
      "metadata": {
        "id": "P4PtxTUU9hrp"
      }
    },
    {
      "cell_type": "code",
      "source": [
        "# Save variables\n",
        "X = df[features].values\n",
        "y = df[target].values.ravel()"
      ],
      "metadata": {
        "id": "F0dGesxgIMhp"
      },
      "execution_count": 11,
      "outputs": []
    },
    {
      "cell_type": "code",
      "source": [
        "y_nums = pd.factorize(y)[0]"
      ],
      "metadata": {
        "id": "Zvek_wbwIWmz"
      },
      "execution_count": 12,
      "outputs": []
    },
    {
      "cell_type": "code",
      "source": [
        "X_train, X_test, y_train, y_test = model_selection.train_test_split(X, y_nums, test_size=0.2, random_state=137)"
      ],
      "metadata": {
        "id": "WJ5XFQY1IMh8"
      },
      "execution_count": 13,
      "outputs": []
    },
    {
      "cell_type": "code",
      "source": [
        "from sklearn import datasets, linear_model\n",
        "from sklearn.metrics import mean_squared_error, r2_score\n",
        "\n",
        "clfLIN = linear_model.LinearRegression()\n",
        "clfLIN.fit(X_train,y_train)  # only train on the training data!!!!!!!!!!!\n",
        "clfLIN.score(X_train,y_train)"
      ],
      "metadata": {
        "colab": {
          "base_uri": "https://localhost:8080/"
        },
        "id": "0ANdIx9eCN_0",
        "outputId": "e3f8c02d-986f-4e7d-9422-3bc2b2713010"
      },
      "execution_count": 14,
      "outputs": [
        {
          "output_type": "execute_result",
          "data": {
            "text/plain": [
              "0.03912024625924504"
            ]
          },
          "metadata": {},
          "execution_count": 14
        }
      ]
    },
    {
      "cell_type": "markdown",
      "source": [
        "#Ridge classifier"
      ],
      "metadata": {
        "id": "gDOt1XptJhf8"
      }
    },
    {
      "cell_type": "code",
      "source": [
        "# Save variables\n",
        "X = df[features].values\n",
        "y = df[target].values.ravel()\n",
        "\n",
        "y_nums = pd.factorize(y)[0]\n",
        "\n",
        "X_train, X_test, y_train, y_test = model_selection.train_test_split(X, y_nums, test_size=0.2, random_state=137)"
      ],
      "metadata": {
        "id": "1PnZ6FC1JsT1"
      },
      "execution_count": 15,
      "outputs": []
    },
    {
      "cell_type": "code",
      "source": [
        "alphas = np.linspace(0,100)\n",
        "maxScore = 0\n",
        "\n",
        "for i in alphas:\n",
        "  clfRIDGE = linear_model.Ridge(alpha=i)\n",
        "  clfRIDGE.fit(X_train,y_train)  # only train on the training data!!!!!!!!!!!\n",
        "  score = clfRIDGE.score(X_train,y_train)\n",
        "\n",
        "  if score > maxScore:\n",
        "    maxScore = score"
      ],
      "metadata": {
        "id": "tciezZiiJnGJ"
      },
      "execution_count": 16,
      "outputs": []
    },
    {
      "cell_type": "code",
      "source": [
        "maxScore"
      ],
      "metadata": {
        "colab": {
          "base_uri": "https://localhost:8080/"
        },
        "id": "DJaQp-ZEJyq8",
        "outputId": "e8865063-b045-4863-9aac-77e1e4e77464"
      },
      "execution_count": 17,
      "outputs": [
        {
          "output_type": "execute_result",
          "data": {
            "text/plain": [
              "0.03912024625924526"
            ]
          },
          "metadata": {},
          "execution_count": 17
        }
      ]
    },
    {
      "cell_type": "markdown",
      "source": [
        "#Lasso"
      ],
      "metadata": {
        "id": "xEuGA2C4KKzr"
      }
    },
    {
      "cell_type": "code",
      "source": [
        "# Save variables\n",
        "X = df[features].values\n",
        "y = df[target].values.ravel()\n",
        "\n",
        "y_nums = pd.factorize(y)[0]\n",
        "\n",
        "X_train, X_test, y_train, y_test = model_selection.train_test_split(X, y_nums, test_size=0.2, random_state=137)"
      ],
      "metadata": {
        "id": "hGfdBMwvKezp"
      },
      "execution_count": 18,
      "outputs": []
    },
    {
      "cell_type": "code",
      "source": [
        "alphas = np.linspace(0,100)\n",
        "maxScore = 0\n",
        "\n",
        "for i in alphas:\n",
        "  clfRIDGE = linear_model.Lasso(alpha=i)\n",
        "  clfRIDGE.fit(X_train,y_train)  # only train on the training data!!!!!!!!!!!\n",
        "  score = clfRIDGE.score(X_train,y_train)\n",
        "\n",
        "  if score > maxScore:\n",
        "    maxScore = score"
      ],
      "metadata": {
        "colab": {
          "base_uri": "https://localhost:8080/"
        },
        "id": "bjYpzQ-9Kezt",
        "outputId": "67bffd83-2022-4c1a-e9b8-2d004ad55f74"
      },
      "execution_count": 19,
      "outputs": [
        {
          "output_type": "stream",
          "name": "stderr",
          "text": [
            "/usr/local/lib/python3.7/dist-packages/ipykernel_launcher.py:6: UserWarning: With alpha=0, this algorithm does not converge well. You are advised to use the LinearRegression estimator\n",
            "  \n",
            "/usr/local/lib/python3.7/dist-packages/sklearn/linear_model/_coordinate_descent.py:648: UserWarning: Coordinate descent with no regularization may lead to unexpected results and is discouraged.\n",
            "  coef_, l1_reg, l2_reg, X, y, max_iter, tol, rng, random, positive\n",
            "/usr/local/lib/python3.7/dist-packages/sklearn/linear_model/_coordinate_descent.py:648: ConvergenceWarning: Objective did not converge. You might want to increase the number of iterations, check the scale of the features or consider increasing regularisation. Duality gap: 4.558e+03, tolerance: 9.488e-01 Linear regression models with null weight for the l1 regularization term are more efficiently fitted using one of the solvers implemented in sklearn.linear_model.Ridge/RidgeCV instead.\n",
            "  coef_, l1_reg, l2_reg, X, y, max_iter, tol, rng, random, positive\n"
          ]
        }
      ]
    },
    {
      "cell_type": "code",
      "source": [
        "maxScore"
      ],
      "metadata": {
        "colab": {
          "base_uri": "https://localhost:8080/"
        },
        "outputId": "c4266fb4-8719-472f-dcd3-f6fbe982d9c4",
        "id": "SOnk5g35Kezt"
      },
      "execution_count": 20,
      "outputs": [
        {
          "output_type": "execute_result",
          "data": {
            "text/plain": [
              "0.03912024625924504"
            ]
          },
          "metadata": {},
          "execution_count": 20
        }
      ]
    },
    {
      "cell_type": "markdown",
      "source": [
        "#Bagging"
      ],
      "metadata": {
        "id": "Tt43v1L0K5k-"
      }
    },
    {
      "cell_type": "code",
      "source": [
        "from sklearn.ensemble import BaggingClassifier\n",
        "from sklearn.neighbors import KNeighborsClassifier"
      ],
      "metadata": {
        "id": "6mU8qMoIA5w9"
      },
      "execution_count": 21,
      "outputs": []
    },
    {
      "cell_type": "code",
      "source": [
        "# Save variables\n",
        "X = df[features].values\n",
        "y = df[target].values.ravel()\n",
        "\n",
        "y_nums = pd.factorize(y)[0]\n",
        "\n",
        "X_train, X_test, y_train, y_test = model_selection.train_test_split(X, y_nums, test_size=0.2, random_state=137)"
      ],
      "metadata": {
        "id": "jarA1sLZMTVh"
      },
      "execution_count": 22,
      "outputs": []
    },
    {
      "cell_type": "code",
      "source": [
        "varList = np.linspace(0.1, 1)\n",
        "\n",
        "train_scores = []\n",
        "test_scores = []\n",
        "cv_scores = []\n",
        "\n",
        "for v in varList:\n",
        "  clf = BaggingClassifier(KNeighborsClassifier(), max_samples=v, max_features=0.9)\n",
        "  clf.fit(X_train,y_train)\n",
        "  \n",
        "  test_score = clf.score(X_test,y_test)\n",
        "  train_score = clf.score(X_train,y_train)\n",
        "  cv_score = model_selection.cross_val_score(clf,X_train,y_train).mean() #get the average score for each fold\n",
        "  \n",
        "  train_scores.append(train_score)\n",
        "  test_scores.append(test_score)\n",
        "  cv_scores.append(cv_score)  #store the 'score' for the tree with depth d\n",
        "\n",
        "vBest = varList[np.argmax(cv_scores)]"
      ],
      "metadata": {
        "id": "IFxbwVdFV3KI"
      },
      "execution_count": 23,
      "outputs": []
    },
    {
      "cell_type": "code",
      "source": [
        "plt.plot(varList, train_scores, 'b:',label='Training Accuracy')\n",
        "plt.plot(varList, test_scores, 'r:',label='Testing Accuracy')\n",
        "plt.plot(varList, cv_scores,'b-', label='CV Train')\n",
        "plt.title('Baggiing Accuracy')\n",
        "plt.legend()\n",
        "    \n",
        "\n",
        "plt.show()\n",
        "print(max(cv_scores))\n",
        "print(vBest)"
      ],
      "metadata": {
        "colab": {
          "base_uri": "https://localhost:8080/",
          "height": 317
        },
        "id": "NJYwR8kHWRSe",
        "outputId": "c560bca7-81fd-48b6-8bd3-cd1fd90b0dd9"
      },
      "execution_count": 24,
      "outputs": [
        {
          "output_type": "display_data",
          "data": {
            "text/plain": [
              "<Figure size 432x288 with 1 Axes>"
            ],
            "image/png": "[encoded data removed]"
          },
          "metadata": {
            "needs_background": "light"
          }
        },
        {
          "output_type": "stream",
          "name": "stdout",
          "text": [
            "0.41380412670735256\n",
            "0.3387755102040817\n"
          ]
        }
      ]
    },
    {
      "cell_type": "markdown",
      "source": [
        "#Random Forest"
      ],
      "metadata": {
        "id": "3DTyOHPQaYYW"
      }
    },
    {
      "cell_type": "code",
      "source": [
        "from sklearn.ensemble import RandomForestClassifier"
      ],
      "metadata": {
        "id": "BnIR17iUXJbz"
      },
      "execution_count": 25,
      "outputs": []
    },
    {
      "cell_type": "code",
      "source": [
        "# Save variables\n",
        "X = df[features].values\n",
        "y = df[target].values.ravel()\n",
        "\n",
        "y_nums = pd.factorize(y)[0]\n",
        "\n",
        "X_train, X_test, y_train, y_test = model_selection.train_test_split(X, y_nums, test_size=0.2, random_state=137)"
      ],
      "metadata": {
        "id": "cjBcF8xzadCL"
      },
      "execution_count": 26,
      "outputs": []
    },
    {
      "cell_type": "code",
      "source": [
        "varList = range(1, 20)\n",
        "\n",
        "train_scores = []\n",
        "test_scores = []\n",
        "cv_scores = []\n",
        "\n",
        "for v in varList:\n",
        "  clf = RandomForestClassifier(n_estimators=v)\n",
        "  clf.fit(X_train,y_train)\n",
        "  \n",
        "  test_score = clf.score(X_test,y_test)\n",
        "  train_score = clf.score(X_train,y_train)\n",
        "  cv_score = model_selection.cross_val_score(clf,X_train,y_train).mean() #get the average score for each fold\n",
        "  \n",
        "  train_scores.append(train_score)\n",
        "  test_scores.append(test_score)\n",
        "  cv_scores.append(cv_score)  #store the 'score' for the tree with depth d\n",
        "\n",
        "vBest = varList[np.argmax(cv_scores)]"
      ],
      "metadata": {
        "id": "yYzGM_fDadCM"
      },
      "execution_count": 27,
      "outputs": []
    },
    {
      "cell_type": "code",
      "source": [
        "plt.plot(varList, train_scores, 'b:',label='Training Accuracy')\n",
        "plt.plot(varList, test_scores, 'r:',label='Testing Accuracy')\n",
        "plt.plot(varList, cv_scores,'b-', label='CV Train')\n",
        "plt.legend()\n",
        "    \n",
        "\n",
        "plt.show()\n",
        "print(max(cv_scores))\n",
        "print(vBest)"
      ],
      "metadata": {
        "colab": {
          "base_uri": "https://localhost:8080/",
          "height": 301
        },
        "outputId": "09f0b456-3bdd-4e6f-a2c4-c71527151edf",
        "id": "oRGgegrGadCM"
      },
      "execution_count": 28,
      "outputs": [
        {
          "output_type": "display_data",
          "data": {
            "text/plain": [
              "<Figure size 432x288 with 1 Axes>"
            ],
            "image/png": "[encoded data removed]"
          },
          "metadata": {
            "needs_background": "light"
          }
        },
        {
          "output_type": "stream",
          "name": "stdout",
          "text": [
            "0.49361232199941873\n",
            "19\n"
          ]
        }
      ]
    },
    {
      "cell_type": "markdown",
      "source": [
        "#Trying with just 2 composers"
      ],
      "metadata": {
        "id": "FR5UlB6Dgsgz"
      }
    },
    {
      "cell_type": "code",
      "source": [
        "print(np.unique(y))"
      ],
      "metadata": {
        "colab": {
          "base_uri": "https://localhost:8080/"
        },
        "id": "VVDAjKI0bTWJ",
        "outputId": "70ec1247-0177-435e-a439-cfc1351c48ed"
      },
      "execution_count": 29,
      "outputs": [
        {
          "output_type": "stream",
          "name": "stdout",
          "text": [
            "['Alexander Scriabin' 'Claude Debussy' 'Domenico Scarlatti'\n",
            " 'Felix Mendelssohn' 'Franz Liszt' 'Franz Schubert' 'Frédéric Chopin'\n",
            " 'Johann Sebastian Bach' 'Johannes Brahms' 'Joseph Haydn'\n",
            " 'Ludwig van Beethoven' 'Robert Schumann' 'Sergei Rachmaninoff'\n",
            " 'Wolfgang Amadeus Mozart']\n"
          ]
        }
      ]
    },
    {
      "cell_type": "code",
      "source": [
        "def getIndices(composerName, composerArr):\n",
        "  for i in range(len(y)):\n",
        "    if y[i] == composerName:\n",
        "      composerArr.append(i)\n",
        "  return composerArr\n",
        "\n",
        "bach_indices = []\n",
        "chopin_indices = []\n",
        "\n",
        "bach_indices = getIndices('Johann Sebastian Bach', bach_indices)\n",
        "chopin_indices = getIndices('Frédéric Chopin', chopin_indices)"
      ],
      "metadata": {
        "id": "FY0g3ymVc6mY"
      },
      "execution_count": 30,
      "outputs": []
    },
    {
      "cell_type": "code",
      "source": [
        "X_Bach = X[bach_indices[0]:bach_indices[-1]]\n",
        "X_Chopin = X[chopin_indices[0]:chopin_indices[-1]]\n",
        "\n",
        "X_twoComps = np.concatenate((X_Bach, X_Chopin), axis = 0)"
      ],
      "metadata": {
        "id": "VW6stbcCdnbH"
      },
      "execution_count": 31,
      "outputs": []
    },
    {
      "cell_type": "code",
      "source": [
        "y_Bach = y[bach_indices[0]:bach_indices[-1]]\n",
        "y_Chopin = y[chopin_indices[0]:chopin_indices[-1]]\n",
        "\n",
        "y_twoComps = np.concatenate((y_Bach, y_Chopin), axis = 0)"
      ],
      "metadata": {
        "id": "5wLbCDYUfN2M"
      },
      "execution_count": 32,
      "outputs": []
    },
    {
      "cell_type": "code",
      "source": [
        "y_twoComps_nums = pd.factorize(y_twoComps)[0]"
      ],
      "metadata": {
        "id": "voZT6weBgQ7a"
      },
      "execution_count": 33,
      "outputs": []
    },
    {
      "cell_type": "markdown",
      "source": [
        "#KNN"
      ],
      "metadata": {
        "id": "InWzzLVLiIHc"
      }
    },
    {
      "cell_type": "code",
      "source": [
        "# Save variables\n",
        "X_train, X_test, y_train, y_test = model_selection.train_test_split(X_twoComps, y_twoComps, test_size=0.2, random_state=137)"
      ],
      "metadata": {
        "id": "Bx6OBHhagyFE"
      },
      "execution_count": 34,
      "outputs": []
    },
    {
      "cell_type": "code",
      "source": [
        "# Run this with and without random_state\n",
        "\n",
        "kLIST = np.arange(1, 20)\n",
        "best_depths = []\n",
        "\n",
        "\n",
        "train_scores = []\n",
        "test_scores = []\n",
        "cv_scores = []\n",
        "\n",
        "for k in kLIST:\n",
        "  clf = neighbors.KNeighborsClassifier(n_neighbors=k)\n",
        "  clf.fit(X_train,y_train)\n",
        "  \n",
        "  test_score = clf.score(X_test,y_test)\n",
        "  train_score = clf.score(X_train,y_train)\n",
        "  cv_score = model_selection.cross_val_score(clf,X_train,y_train).mean() #get the average score for each fold\n",
        "  \n",
        "  train_scores.append(train_score)\n",
        "  test_scores.append(test_score)\n",
        "  cv_scores.append(cv_score)  #store the 'score' for the tree with depth d\n",
        "\n",
        "kBEST = kLIST[np.argmax(cv_scores)]\n",
        "\n",
        "\n",
        "#plot our results\n",
        "plt.plot(kLIST, train_scores, 'b:',label='Training Accuracy')\n",
        "plt.plot(kLIST, test_scores, 'r:',label='Testing Accuracy')\n",
        "plt.plot(kLIST, cv_scores,'b-', label='CV Train')\n",
        "plt.legend()\n",
        "plt.xlabel('N Neighbors')\n",
        "plt.ylabel('Accuracy')\n",
        "plt.title('k Nearest Neighbor Accuracy')\n",
        "    \n",
        "\n",
        "plt.show()\n",
        "\n",
        "kBEST = kLIST[np.argmax(cv_scores)]\n",
        "print(f'Max score: {max(cv_scores)}')\n",
        "print(f'Best k: {kBEST}')"
      ],
      "metadata": {
        "colab": {
          "base_uri": "https://localhost:8080/",
          "height": 331
        },
        "id": "cQZCwUOTgvyf",
        "outputId": "219b270f-9ae6-4dcf-d424-f92f18f11142"
      },
      "execution_count": 35,
      "outputs": [
        {
          "output_type": "display_data",
          "data": {
            "text/plain": [
              "<Figure size 432x288 with 1 Axes>"
            ],
            "image/png": "[encoded data removed]"
          },
          "metadata": {
            "needs_background": "light"
          }
        },
        {
          "output_type": "stream",
          "name": "stdout",
          "text": [
            "Max score: 0.8727272727272728\n",
            "Best k: 18\n"
          ]
        }
      ]
    },
    {
      "cell_type": "markdown",
      "source": [
        "#GNB"
      ],
      "metadata": {
        "id": "jmsRSeyvh3MB"
      }
    },
    {
      "cell_type": "code",
      "source": [
        "clfGNB = naive_bayes.GaussianNB()\n",
        "clfGNB.fit(X_train,y_train)  # only train on the training data!!!!!!!!!!!\n",
        "clfGNB.score(X_train,y_train)"
      ],
      "metadata": {
        "colab": {
          "base_uri": "https://localhost:8080/"
        },
        "id": "3Worueggg94V",
        "outputId": "582898a4-fe03-4759-84d3-d53b5e775f29"
      },
      "execution_count": 36,
      "outputs": [
        {
          "output_type": "execute_result",
          "data": {
            "text/plain": [
              "0.8763636363636363"
            ]
          },
          "metadata": {},
          "execution_count": 36
        }
      ]
    },
    {
      "cell_type": "markdown",
      "source": [
        "#Decision Tree"
      ],
      "metadata": {
        "id": "fCywHU95iJ60"
      }
    },
    {
      "cell_type": "code",
      "source": [
        "# Run this with and without random_state\n",
        "\n",
        "# plt.figure(figsize=(10,10))\n",
        "\n",
        "\n",
        "dLIST = np.arange(1, 10)\n",
        "best_depths = []\n",
        "\n",
        "\n",
        "train_scores = []\n",
        "test_scores = []\n",
        "cv_scores = []\n",
        "\n",
        "for d in dLIST:\n",
        "  clf = DecisionTreeClassifier(max_depth=d)\n",
        "  clf.fit(X_train,y_train)\n",
        "  \n",
        "  test_score = clf.score(X_test,y_test)\n",
        "  train_score = clf.score(X_train,y_train)\n",
        "  cv_score = model_selection.cross_val_score(clf,X_train,y_train).mean() #get the average score for each fold\n",
        "  \n",
        "  train_scores.append(train_score)\n",
        "  test_scores.append(test_score)\n",
        "  cv_scores.append(cv_score)  #store the 'score' for the tree with depth d\n",
        "\n",
        "dBEST = dLIST[np.argmax(cv_scores)]\n",
        "best_depths.append(dBEST) #store the best depth for each iteration\n",
        "\n",
        "#plot our results\n",
        "plt.plot(dLIST, train_scores, 'b:',label='Training Accuracy')\n",
        "plt.plot(dLIST, test_scores, 'r:',label='Testing Accuracy')\n",
        "plt.plot(dLIST, cv_scores,'b-', label='CV Train')\n",
        "plt.legend()\n",
        "plt.xlabel('Depth')\n",
        "plt.ylabel('Accuracy')\n",
        "plt.title('Tree Accuracy')\n",
        "    \n",
        "\n",
        "plt.show()\n",
        "print(max(cv_scores))"
      ],
      "metadata": {
        "colab": {
          "base_uri": "https://localhost:8080/",
          "height": 313
        },
        "id": "zUm8aqeYh94h",
        "outputId": "bfe0c3d0-20d5-47ba-c9ff-3d110aa3545e"
      },
      "execution_count": 37,
      "outputs": [
        {
          "output_type": "display_data",
          "data": {
            "text/plain": [
              "<Figure size 432x288 with 1 Axes>"
            ],
            "image/png": "[encoded data removed]"
          },
          "metadata": {
            "needs_background": "light"
          }
        },
        {
          "output_type": "stream",
          "name": "stdout",
          "text": [
            "0.8872727272727273\n"
          ]
        }
      ]
    },
    {
      "cell_type": "markdown",
      "source": [
        "#Random Forest"
      ],
      "metadata": {
        "id": "pGAAH5VHiNWl"
      }
    },
    {
      "cell_type": "code",
      "source": [
        "varList = range(1, 20)\n",
        "\n",
        "train_scores = []\n",
        "test_scores = []\n",
        "cv_scores = []\n",
        "\n",
        "for v in varList:\n",
        "  clf = RandomForestClassifier(n_estimators=v)\n",
        "  clf.fit(X_train,y_train)\n",
        "  \n",
        "  test_score = clf.score(X_test,y_test)\n",
        "  train_score = clf.score(X_train,y_train)\n",
        "  cv_score = model_selection.cross_val_score(clf,X_train,y_train).mean() #get the average score for each fold\n",
        "  \n",
        "  train_scores.append(train_score)\n",
        "  test_scores.append(test_score)\n",
        "  cv_scores.append(cv_score)  #store the 'score' for the tree with depth d\n",
        "\n",
        "vBest = varList[np.argmax(cv_scores)]"
      ],
      "metadata": {
        "id": "8FjHGwRgiOxH"
      },
      "execution_count": 38,
      "outputs": []
    },
    {
      "cell_type": "code",
      "source": [
        "plt.plot(varList, train_scores, 'b:',label='Training Accuracy')\n",
        "plt.plot(varList, test_scores, 'r:',label='Testing Accuracy')\n",
        "plt.plot(varList, cv_scores,'b-', label='CV Train')\n",
        "plt.legend()\n",
        "    \n",
        "\n",
        "plt.show()\n",
        "print(max(cv_scores))"
      ],
      "metadata": {
        "colab": {
          "base_uri": "https://localhost:8080/",
          "height": 283
        },
        "outputId": "0cdb63ec-006f-4e5c-d5db-8b3754243f8e",
        "id": "wwIpRFLfiOxI"
      },
      "execution_count": 39,
      "outputs": [
        {
          "output_type": "display_data",
          "data": {
            "text/plain": [
              "<Figure size 432x288 with 1 Axes>"
            ],
            "image/png": "[encoded data removed]"
          },
          "metadata": {
            "needs_background": "light"
          }
        },
        {
          "output_type": "stream",
          "name": "stdout",
          "text": [
            "0.9345454545454546\n"
          ]
        }
      ]
    }
  ]
}